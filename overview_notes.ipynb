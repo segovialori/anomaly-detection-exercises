{
 "cells": [
  {
   "cell_type": "markdown",
   "metadata": {},
   "source": [
    "# Anomaly Detection"
   ]
  },
  {
   "cell_type": "markdown",
   "metadata": {},
   "source": [
    "## What are Anomalies?\n",
    "- anomaly\n",
    "    - Ex). temperature measurement of something that wasnt possible (temperature that is impossible in our universe)\n",
    "    - anomalies can produce outliers and inliers (something that looks like it is part of the data)\n",
    "    - Ex). earthquake detection, we want to keep this data around\n",
    "    - Ex). Fraud detection, we want to make sure that is caught and not filtered out as some outlier\n",
    "- outlier\n",
    "    - Ex) Zillow dataset :  If someone is buying a 30 million dollar home they probably arent using zillow so we can probably remove that datapoint"
   ]
  },
  {
   "cell_type": "markdown",
   "metadata": {},
   "source": [
    "## The best way to detect anomalies is to know your domain\n",
    "- domain knowledge is the best way to detect occurences that are rare\n",
    "- What determines if a data point....\n",
    "    - one person noise is another persons signal\n",
    "    - someone only looking at houses under 300K\n",
    "- cost/benefit analysis\n",
    "    - we want to find anomalies if lives are on the line\n",
    "    - what is the cost of a miss, what do we lose?\n",
    "    - what is the upside of catching?"
   ]
  },
  {
   "cell_type": "markdown",
   "metadata": {},
   "source": [
    "## Types of anomalies\n",
    "- use cases: longer thatn usual response times, error rates\n",
    "- point anomalies\n",
    "- contextual anomalies\n",
    "    - accessing confidential files at work vs accessing them after hours at home\n",
    "- collective anomalies\n",
    "- anomalies vs noise removal vs novelty detection\n",
    "    - noise: removing outliers that dont belong\n",
    "    - novelty: detecting something new"
   ]
  },
  {
   "cell_type": "markdown",
   "metadata": {},
   "source": [
    "## Exercise\n",
    "- Take a few minutes and jot down some example applications, specific problems, or domains where detecting anomalies is super valuable and impactful.\n",
    "- Identify a few example applications, specific problems, or domains where the outliers can skew the data in a negative way and those outliers may be safely avoided for producing a model."
   ]
  },
  {
   "cell_type": "markdown",
   "metadata": {},
   "source": [
    "- detecting erroneous data in healthcare\n",
    "    - anamolous physiological readings\n",
    "    - detect anomalies in heart rate data\n",
    "    - cancer as a tissue anomaly"
   ]
  },
  {
   "cell_type": "markdown",
   "metadata": {},
   "source": []
  },
  {
   "cell_type": "markdown",
   "metadata": {},
   "source": []
  },
  {
   "cell_type": "markdown",
   "metadata": {},
   "source": []
  },
  {
   "cell_type": "markdown",
   "metadata": {},
   "source": []
  }
 ],
 "metadata": {
  "kernelspec": {
   "display_name": "Python 3",
   "language": "python",
   "name": "python3"
  },
  "language_info": {
   "codemirror_mode": {
    "name": "ipython",
    "version": 3
   },
   "file_extension": ".py",
   "mimetype": "text/x-python",
   "name": "python",
   "nbconvert_exporter": "python",
   "pygments_lexer": "ipython3",
   "version": "3.8.5"
  }
 },
 "nbformat": 4,
 "nbformat_minor": 4
}
