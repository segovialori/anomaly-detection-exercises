{
 "cells": [
  {
   "cell_type": "markdown",
   "metadata": {},
   "source": [
    "# Clustering Anomaly Detection"
   ]
  },
  {
   "cell_type": "markdown",
   "metadata": {},
   "source": [
    "## Clustering - DBSCAN"
   ]
  },
  {
   "cell_type": "markdown",
   "metadata": {},
   "source": [
    "### 1. Use DBSCAN to detect anomalies in other products from the customers dataset.\n",
    "\n"
   ]
  },
  {
   "cell_type": "markdown",
   "metadata": {},
   "source": [
    "### Imports"
   ]
  },
  {
   "cell_type": "code",
   "execution_count": 1,
   "metadata": {},
   "outputs": [],
   "source": [
    "# from __future__ import division\n",
    "import itertools\n",
    "import warnings\n",
    "warnings.filterwarnings(\"ignore\")\n",
    "import matplotlib.pyplot as plt\n",
    "import matplotlib.dates as mdates\n",
    "import numpy as np\n",
    "import pandas as pd\n",
    "import math\n",
    "from sklearn import metrics\n",
    "from random import randint\n",
    "from matplotlib import style\n",
    "import seaborn as sns\n",
    "from sklearn.cluster import DBSCAN\n",
    "from sklearn.preprocessing import MinMaxScaler\n",
    "\n",
    "%matplotlib inline"
   ]
  },
  {
   "cell_type": "code",
   "execution_count": 2,
   "metadata": {},
   "outputs": [],
   "source": [
    "from env import host, user, password\n",
    "\n",
    "def get_db_url(database, host=host, user=user, password=password):\n",
    "    return f'mysql+pymysql://{user}:{password}@{host}/{database}'"
   ]
  },
  {
   "cell_type": "code",
   "execution_count": 3,
   "metadata": {},
   "outputs": [],
   "source": [
    "url = get_db_url(\"grocery_db\")\n",
    "\n",
    "sql = \"\"\"\n",
    "select *\n",
    "from grocery_customers\n",
    "\"\"\"\n",
    "\n",
    "df = pd.read_sql(sql, url, index_col=\"customer_id\")"
   ]
  },
  {
   "cell_type": "code",
   "execution_count": 4,
   "metadata": {},
   "outputs": [
    {
     "data": {
      "text/html": [
       "<div>\n",
       "<style scoped>\n",
       "    .dataframe tbody tr th:only-of-type {\n",
       "        vertical-align: middle;\n",
       "    }\n",
       "\n",
       "    .dataframe tbody tr th {\n",
       "        vertical-align: top;\n",
       "    }\n",
       "\n",
       "    .dataframe thead th {\n",
       "        text-align: right;\n",
       "    }\n",
       "</style>\n",
       "<table border=\"1\" class=\"dataframe\">\n",
       "  <thead>\n",
       "    <tr style=\"text-align: right;\">\n",
       "      <th></th>\n",
       "      <th>Channel</th>\n",
       "      <th>Region</th>\n",
       "      <th>Fresh</th>\n",
       "      <th>Milk</th>\n",
       "      <th>Grocery</th>\n",
       "      <th>Frozen</th>\n",
       "      <th>Detergents_Paper</th>\n",
       "      <th>Delicassen</th>\n",
       "    </tr>\n",
       "    <tr>\n",
       "      <th>customer_id</th>\n",
       "      <th></th>\n",
       "      <th></th>\n",
       "      <th></th>\n",
       "      <th></th>\n",
       "      <th></th>\n",
       "      <th></th>\n",
       "      <th></th>\n",
       "      <th></th>\n",
       "    </tr>\n",
       "  </thead>\n",
       "  <tbody>\n",
       "    <tr>\n",
       "      <th>0</th>\n",
       "      <td>2</td>\n",
       "      <td>3</td>\n",
       "      <td>12669</td>\n",
       "      <td>9656</td>\n",
       "      <td>7561</td>\n",
       "      <td>214</td>\n",
       "      <td>2674</td>\n",
       "      <td>1338</td>\n",
       "    </tr>\n",
       "    <tr>\n",
       "      <th>1</th>\n",
       "      <td>2</td>\n",
       "      <td>3</td>\n",
       "      <td>7057</td>\n",
       "      <td>9810</td>\n",
       "      <td>9568</td>\n",
       "      <td>1762</td>\n",
       "      <td>3293</td>\n",
       "      <td>1776</td>\n",
       "    </tr>\n",
       "    <tr>\n",
       "      <th>2</th>\n",
       "      <td>2</td>\n",
       "      <td>3</td>\n",
       "      <td>6353</td>\n",
       "      <td>8808</td>\n",
       "      <td>7684</td>\n",
       "      <td>2405</td>\n",
       "      <td>3516</td>\n",
       "      <td>7844</td>\n",
       "    </tr>\n",
       "    <tr>\n",
       "      <th>3</th>\n",
       "      <td>1</td>\n",
       "      <td>3</td>\n",
       "      <td>13265</td>\n",
       "      <td>1196</td>\n",
       "      <td>4221</td>\n",
       "      <td>6404</td>\n",
       "      <td>507</td>\n",
       "      <td>1788</td>\n",
       "    </tr>\n",
       "    <tr>\n",
       "      <th>4</th>\n",
       "      <td>2</td>\n",
       "      <td>3</td>\n",
       "      <td>22615</td>\n",
       "      <td>5410</td>\n",
       "      <td>7198</td>\n",
       "      <td>3915</td>\n",
       "      <td>1777</td>\n",
       "      <td>5185</td>\n",
       "    </tr>\n",
       "  </tbody>\n",
       "</table>\n",
       "</div>"
      ],
      "text/plain": [
       "             Channel  Region  Fresh  Milk  Grocery  Frozen  Detergents_Paper  \\\n",
       "customer_id                                                                    \n",
       "0                  2       3  12669  9656     7561     214              2674   \n",
       "1                  2       3   7057  9810     9568    1762              3293   \n",
       "2                  2       3   6353  8808     7684    2405              3516   \n",
       "3                  1       3  13265  1196     4221    6404               507   \n",
       "4                  2       3  22615  5410     7198    3915              1777   \n",
       "\n",
       "             Delicassen  \n",
       "customer_id              \n",
       "0                  1338  \n",
       "1                  1776  \n",
       "2                  7844  \n",
       "3                  1788  \n",
       "4                  5185  "
      ]
     },
     "execution_count": 4,
     "metadata": {},
     "output_type": "execute_result"
    }
   ],
   "source": [
    "df.head()"
   ]
  },
  {
   "cell_type": "code",
   "execution_count": 5,
   "metadata": {},
   "outputs": [
    {
     "name": "stdout",
     "output_type": "stream",
     "text": [
      "<class 'pandas.core.frame.DataFrame'>\n",
      "Int64Index: 440 entries, 0 to 439\n",
      "Data columns (total 8 columns):\n",
      " #   Column            Non-Null Count  Dtype\n",
      "---  ------            --------------  -----\n",
      " 0   Channel           440 non-null    int64\n",
      " 1   Region            440 non-null    int64\n",
      " 2   Fresh             440 non-null    int64\n",
      " 3   Milk              440 non-null    int64\n",
      " 4   Grocery           440 non-null    int64\n",
      " 5   Frozen            440 non-null    int64\n",
      " 6   Detergents_Paper  440 non-null    int64\n",
      " 7   Delicassen        440 non-null    int64\n",
      "dtypes: int64(8)\n",
      "memory usage: 30.9 KB\n"
     ]
    }
   ],
   "source": [
    "df.info()"
   ]
  },
  {
   "cell_type": "code",
   "execution_count": 6,
   "metadata": {},
   "outputs": [
    {
     "data": {
      "text/plain": [
       "(440, 8)"
      ]
     },
     "execution_count": 6,
     "metadata": {},
     "output_type": "execute_result"
    }
   ],
   "source": [
    "df.shape"
   ]
  },
  {
   "cell_type": "code",
   "execution_count": 8,
   "metadata": {},
   "outputs": [
    {
     "data": {
      "text/plain": [
       "Index(['Channel', 'Region', 'Fresh', 'Milk', 'Grocery', 'Frozen',\n",
       "       'Detergents_Paper', 'Delicassen'],\n",
       "      dtype='object')"
      ]
     },
     "execution_count": 8,
     "metadata": {},
     "output_type": "execute_result"
    }
   ],
   "source": [
    "df.columns"
   ]
  },
  {
   "cell_type": "code",
   "execution_count": 9,
   "metadata": {},
   "outputs": [],
   "source": [
    "# df.drop([\"Channel\", \"Region\"], axis = 1, inplace = True)\n",
    "df = df[['Frozen', 'Detergents_Paper', 'Delicassen']]"
   ]
  },
  {
   "cell_type": "code",
   "execution_count": 10,
   "metadata": {},
   "outputs": [
    {
     "data": {
      "text/html": [
       "<div>\n",
       "<style scoped>\n",
       "    .dataframe tbody tr th:only-of-type {\n",
       "        vertical-align: middle;\n",
       "    }\n",
       "\n",
       "    .dataframe tbody tr th {\n",
       "        vertical-align: top;\n",
       "    }\n",
       "\n",
       "    .dataframe thead th {\n",
       "        text-align: right;\n",
       "    }\n",
       "</style>\n",
       "<table border=\"1\" class=\"dataframe\">\n",
       "  <thead>\n",
       "    <tr style=\"text-align: right;\">\n",
       "      <th></th>\n",
       "      <th>Frozen</th>\n",
       "      <th>Detergents_Paper</th>\n",
       "      <th>Delicassen</th>\n",
       "    </tr>\n",
       "    <tr>\n",
       "      <th>customer_id</th>\n",
       "      <th></th>\n",
       "      <th></th>\n",
       "      <th></th>\n",
       "    </tr>\n",
       "  </thead>\n",
       "  <tbody>\n",
       "    <tr>\n",
       "      <th>0</th>\n",
       "      <td>214</td>\n",
       "      <td>2674</td>\n",
       "      <td>1338</td>\n",
       "    </tr>\n",
       "    <tr>\n",
       "      <th>1</th>\n",
       "      <td>1762</td>\n",
       "      <td>3293</td>\n",
       "      <td>1776</td>\n",
       "    </tr>\n",
       "    <tr>\n",
       "      <th>2</th>\n",
       "      <td>2405</td>\n",
       "      <td>3516</td>\n",
       "      <td>7844</td>\n",
       "    </tr>\n",
       "    <tr>\n",
       "      <th>3</th>\n",
       "      <td>6404</td>\n",
       "      <td>507</td>\n",
       "      <td>1788</td>\n",
       "    </tr>\n",
       "    <tr>\n",
       "      <th>4</th>\n",
       "      <td>3915</td>\n",
       "      <td>1777</td>\n",
       "      <td>5185</td>\n",
       "    </tr>\n",
       "  </tbody>\n",
       "</table>\n",
       "</div>"
      ],
      "text/plain": [
       "             Frozen  Detergents_Paper  Delicassen\n",
       "customer_id                                      \n",
       "0               214              2674        1338\n",
       "1              1762              3293        1776\n",
       "2              2405              3516        7844\n",
       "3              6404               507        1788\n",
       "4              3915              1777        5185"
      ]
     },
     "execution_count": 10,
     "metadata": {},
     "output_type": "execute_result"
    }
   ],
   "source": [
    "df.head()"
   ]
  },
  {
   "cell_type": "code",
   "execution_count": 11,
   "metadata": {},
   "outputs": [
    {
     "data": {
      "text/plain": [
       "array([[ 214., 2674., 1338.],\n",
       "       [1762., 3293., 1776.],\n",
       "       [2405., 3516., 7844.],\n",
       "       [6404.,  507., 1788.],\n",
       "       [3915., 1777., 5185.],\n",
       "       [ 666., 1795., 1451.],\n",
       "       [ 480., 3140.,  545.],\n",
       "       [1669., 3321., 2566.],\n",
       "       [ 425., 1716.,  750.],\n",
       "       [1159., 7425., 2098.]], dtype=float32)"
      ]
     },
     "execution_count": 11,
     "metadata": {},
     "output_type": "execute_result"
    }
   ],
   "source": [
    "np_array = df.values.astype(\"float32\", copy = False)\n",
    "np_array[0:10]"
   ]
  },
  {
   "cell_type": "code",
   "execution_count": 12,
   "metadata": {},
   "outputs": [
    {
     "data": {
      "text/plain": [
       "array([[0.0031063 , 0.0654272 , 0.02784731],\n",
       "       [0.02854842, 0.08058985, 0.03698373],\n",
       "       [0.03911643, 0.08605233, 0.16355862],\n",
       "       [0.1048419 , 0.01234568, 0.03723405],\n",
       "       [0.063934  , 0.04345483, 0.10809346],\n",
       "       [0.01053514, 0.04389575, 0.03020442],\n",
       "       [0.00747814, 0.07684205, 0.0113058 ],\n",
       "       [0.02701992, 0.08127572, 0.05346267],\n",
       "       [0.00657419, 0.04196061, 0.01558198],\n",
       "       [0.01863783, 0.18180482, 0.04370046]], dtype=float32)"
      ]
     },
     "execution_count": 12,
     "metadata": {},
     "output_type": "execute_result"
    }
   ],
   "source": [
    "scaler = MinMaxScaler().fit(np_array)\n",
    "np_array = scaler.transform(np_array)\n",
    "np_array[0:10]"
   ]
  },
  {
   "cell_type": "code",
   "execution_count": 13,
   "metadata": {},
   "outputs": [],
   "source": [
    "dbsc = DBSCAN(eps = .10, min_samples = 20).fit(np_array)"
   ]
  },
  {
   "cell_type": "code",
   "execution_count": 14,
   "metadata": {},
   "outputs": [],
   "source": [
    "# Now, let's add the scaled value columns back onto the dataframe\n",
    "columns = list(df.columns)\n",
    "scaled_columns = [\"Scaled_\" + column for column in columns]\n",
    "\n",
    "# Save a copy of the original dataframe\n",
    "original_df = df.copy()\n",
    "\n",
    "# Create a dataframe containing the scaled values\n",
    "scaled_df = pd.DataFrame(np_array, columns=scaled_columns)\n",
    "\n",
    "# Merge the scaled and non-scaled values into one dataframe\n",
    "df = df.merge(scaled_df, on=df.index)\n",
    "df = df.drop(columns=['key_0'])"
   ]
  },
  {
   "cell_type": "code",
   "execution_count": 15,
   "metadata": {},
   "outputs": [
    {
     "data": {
      "text/plain": [
       "array([0, 0, 0, 0, 0, 0, 0, 0, 0, 0])"
      ]
     },
     "execution_count": 15,
     "metadata": {},
     "output_type": "execute_result"
    }
   ],
   "source": [
    "#extract cluster labels\n",
    "labels = dbsc.labels_\n",
    "labels[0:10]"
   ]
  },
  {
   "cell_type": "code",
   "execution_count": 16,
   "metadata": {},
   "outputs": [
    {
     "data": {
      "text/plain": [
       " 0    423\n",
       "-1     17\n",
       "Name: labels, dtype: int64"
      ]
     },
     "execution_count": 16,
     "metadata": {},
     "output_type": "execute_result"
    }
   ],
   "source": [
    "df['labels'] = labels\n",
    "df.labels.value_counts()"
   ]
  },
  {
   "cell_type": "code",
   "execution_count": 17,
   "metadata": {},
   "outputs": [
    {
     "data": {
      "text/html": [
       "<div>\n",
       "<style scoped>\n",
       "    .dataframe tbody tr th:only-of-type {\n",
       "        vertical-align: middle;\n",
       "    }\n",
       "\n",
       "    .dataframe tbody tr th {\n",
       "        vertical-align: top;\n",
       "    }\n",
       "\n",
       "    .dataframe thead th {\n",
       "        text-align: right;\n",
       "    }\n",
       "</style>\n",
       "<table border=\"1\" class=\"dataframe\">\n",
       "  <thead>\n",
       "    <tr style=\"text-align: right;\">\n",
       "      <th></th>\n",
       "      <th>Frozen</th>\n",
       "      <th>Detergents_Paper</th>\n",
       "      <th>Delicassen</th>\n",
       "      <th>Scaled_Frozen</th>\n",
       "      <th>Scaled_Detergents_Paper</th>\n",
       "      <th>Scaled_Delicassen</th>\n",
       "      <th>labels</th>\n",
       "    </tr>\n",
       "  </thead>\n",
       "  <tbody>\n",
       "    <tr>\n",
       "      <th>23</th>\n",
       "      <td>5154</td>\n",
       "      <td>4337</td>\n",
       "      <td>16523</td>\n",
       "      <td>0.084298</td>\n",
       "      <td>0.106163</td>\n",
       "      <td>0.344597</td>\n",
       "      <td>-1</td>\n",
       "    </tr>\n",
       "    <tr>\n",
       "      <th>47</th>\n",
       "      <td>7782</td>\n",
       "      <td>24171</td>\n",
       "      <td>6465</td>\n",
       "      <td>0.127490</td>\n",
       "      <td>0.592005</td>\n",
       "      <td>0.134793</td>\n",
       "      <td>-1</td>\n",
       "    </tr>\n",
       "    <tr>\n",
       "      <th>56</th>\n",
       "      <td>2616</td>\n",
       "      <td>17740</td>\n",
       "      <td>1340</td>\n",
       "      <td>0.042584</td>\n",
       "      <td>0.434475</td>\n",
       "      <td>0.027889</td>\n",
       "      <td>-1</td>\n",
       "    </tr>\n",
       "    <tr>\n",
       "      <th>61</th>\n",
       "      <td>3254</td>\n",
       "      <td>26701</td>\n",
       "      <td>2017</td>\n",
       "      <td>0.053070</td>\n",
       "      <td>0.653978</td>\n",
       "      <td>0.042011</td>\n",
       "      <td>-1</td>\n",
       "    </tr>\n",
       "    <tr>\n",
       "      <th>65</th>\n",
       "      <td>36</td>\n",
       "      <td>24231</td>\n",
       "      <td>1423</td>\n",
       "      <td>0.000181</td>\n",
       "      <td>0.593474</td>\n",
       "      <td>0.029620</td>\n",
       "      <td>-1</td>\n",
       "    </tr>\n",
       "  </tbody>\n",
       "</table>\n",
       "</div>"
      ],
      "text/plain": [
       "    Frozen  Detergents_Paper  Delicassen  Scaled_Frozen  \\\n",
       "23    5154              4337       16523       0.084298   \n",
       "47    7782             24171        6465       0.127490   \n",
       "56    2616             17740        1340       0.042584   \n",
       "61    3254             26701        2017       0.053070   \n",
       "65      36             24231        1423       0.000181   \n",
       "\n",
       "    Scaled_Detergents_Paper  Scaled_Delicassen  labels  \n",
       "23                 0.106163           0.344597      -1  \n",
       "47                 0.592005           0.134793      -1  \n",
       "56                 0.434475           0.027889      -1  \n",
       "61                 0.653978           0.042011      -1  \n",
       "65                 0.593474           0.029620      -1  "
      ]
     },
     "execution_count": 17,
     "metadata": {},
     "output_type": "execute_result"
    }
   ],
   "source": [
    "df[df.labels==-1].head()"
   ]
  },
  {
   "cell_type": "code",
   "execution_count": 18,
   "metadata": {},
   "outputs": [
    {
     "name": "stdout",
     "output_type": "stream",
     "text": [
      "Population\n",
      "             Frozen  Detergents_Paper    Delicassen  Scaled_Frozen  \\\n",
      "count    440.000000        440.000000    440.000000     440.000000   \n",
      "mean    3071.931818       2881.493182   1524.870455       0.050078   \n",
      "std     4854.673333       4767.854448   2820.105937       0.079789   \n",
      "min       25.000000          3.000000      3.000000       0.000000   \n",
      "25%      742.250000        256.750000    408.250000       0.011788   \n",
      "50%     1526.000000        816.500000    965.500000       0.024670   \n",
      "75%     3554.250000       3922.000000   1820.250000       0.058005   \n",
      "max    60869.000000      40827.000000  47943.000000       1.000000   \n",
      "\n",
      "       Scaled_Detergents_Paper  Scaled_Delicassen      labels  \n",
      "count               440.000000         440.000000  440.000000  \n",
      "mean                  0.070510           0.031745   -0.038636  \n",
      "std                   0.116790           0.058826    0.192946  \n",
      "min                   0.000000           0.000000   -1.000000  \n",
      "25%                   0.006216           0.008453    0.000000  \n",
      "50%                   0.019927           0.020077    0.000000  \n",
      "75%                   0.095997           0.037907    0.000000  \n",
      "max                   1.000000           1.000000    0.000000  \n",
      "-------------\n",
      "Inliers\n",
      "             Frozen  Detergents_Paper   Delicassen  Scaled_Frozen  \\\n",
      "count    423.000000        423.000000   423.000000     423.000000   \n",
      "mean    2730.751773       2369.943262  1256.191489       0.044470   \n",
      "std     3281.667634       3225.999086  1218.703220       0.053936   \n",
      "min       25.000000          3.000000     3.000000       0.000000   \n",
      "25%      704.000000        255.500000   400.000000       0.011160   \n",
      "50%     1465.000000        778.000000   911.000000       0.023667   \n",
      "75%     3380.500000       3606.500000  1732.500000       0.055149   \n",
      "max    18711.000000      17120.000000  7844.000000       0.307113   \n",
      "\n",
      "       Scaled_Detergents_Paper  Scaled_Delicassen  labels  \n",
      "count               423.000000         423.000000   423.0  \n",
      "mean                  0.057979           0.026141     0.0  \n",
      "std                   0.079022           0.025421     0.0  \n",
      "min                   0.000000           0.000000     0.0  \n",
      "25%                   0.006185           0.008281     0.0  \n",
      "50%                   0.018984           0.018940     0.0  \n",
      "75%                   0.088269           0.036076     0.0  \n",
      "max                   0.419288           0.163559     0.0  \n",
      "-------------\n",
      "Outliers\n",
      "             Frozen  Detergents_Paper    Delicassen  Scaled_Frozen  \\\n",
      "count     17.000000         17.000000     17.000000      17.000000   \n",
      "mean   11561.294118      15610.058824   8210.235294       0.189604   \n",
      "std    16821.133615      13045.078758  11386.011761       0.276463   \n",
      "min       36.000000         71.000000    903.000000       0.000181   \n",
      "25%     2616.000000       4173.000000   2017.000000       0.042584   \n",
      "50%     5154.000000      18594.000000   5121.000000       0.084298   \n",
      "75%     7782.000000      24171.000000   8550.000000       0.127490   \n",
      "max    60869.000000      40827.000000  47943.000000       1.000000   \n",
      "\n",
      "       Scaled_Detergents_Paper  Scaled_Delicassen  labels  \n",
      "count                17.000000          17.000000    17.0  \n",
      "mean                  0.382301           0.171198    -1.0  \n",
      "std                   0.319544           0.237505     0.0  \n",
      "min                   0.001666           0.018773    -1.0  \n",
      "25%                   0.102146           0.042011    -1.0  \n",
      "50%                   0.455394           0.106758    -1.0  \n",
      "75%                   0.592005           0.178285    -1.0  \n",
      "max                   1.000000           1.000000    -1.0  \n"
     ]
    }
   ],
   "source": [
    "# Let's look at the descriptive stats for the entire population, the inliers, then the outliers/anomalies\n",
    "print(\"Population\")\n",
    "print(df.describe())\n",
    "print(\"-------------\")\n",
    "print(\"Inliers\")\n",
    "print(df[df.labels==0].describe())\n",
    "print(\"-------------\")\n",
    "print(\"Outliers\")\n",
    "print(df[df.labels==-1].describe())"
   ]
  },
  {
   "cell_type": "code",
   "execution_count": 22,
   "metadata": {},
   "outputs": [
    {
     "data": {
      "image/png": "[encoded data removed]",
      "text/plain": [
       "<Figure size 432x288 with 1 Axes>"
      ]
     },
     "metadata": {
      "needs_background": "light"
     },
     "output_type": "display_data"
    },
    {
     "data": {
      "image/png": "[encoded data removed]",
      "text/plain": [
       "<Figure size 432x288 with 1 Axes>"
      ]
     },
     "metadata": {
      "needs_background": "light"
     },
     "output_type": "display_data"
    }
   ],
   "source": [
    "#scatterplots of frozen, Detergents_Paper, and Delicassen with labels as hue\n",
    "sns.scatterplot(df.Detergents_Paper, df.Delicassen, hue=df.labels)\n",
    "plt.title('Detergents and Paper vs Delicassen')\n",
    "plt.show()\n",
    "\n",
    "sns.scatterplot(df.Frozen, df.Delicassen, hue=df.labels)\n",
    "plt.title('Frozen vs Delicassen')\n",
    "plt.show()"
   ]
  },
  {
   "cell_type": "code",
   "execution_count": 24,
   "metadata": {},
   "outputs": [
    {
     "data": {
      "text/plain": [
       "Text(0.5, 0, 'Delicassen')"
      ]
     },
     "execution_count": 24,
     "metadata": {},
     "output_type": "execute_result"
    },
    {
     "data": {
      "image/png": "[encoded data removed]",
      "text/plain": [
       "<Figure size 576x576 with 1 Axes>"
      ]
     },
     "metadata": {
      "needs_background": "light"
     },
     "output_type": "display_data"
    }
   ],
   "source": [
    "# 3d viz\n",
    "from mpl_toolkits.mplot3d import Axes3D\n",
    "\n",
    "fig = plt.figure(1, figsize=(8, 8))\n",
    "ax = Axes3D(fig, rect=[0, 0, .95, 1], elev=48, azim=134)\n",
    "\n",
    "# plot the points\n",
    "ax.scatter(df.Frozen, df.Detergents_Paper, df.Delicassen,\n",
    "           c=df.labels, edgecolor='k')\n",
    "\n",
    "ax.w_xaxis.set_ticklabels([])\n",
    "ax.w_yaxis.set_ticklabels([])\n",
    "ax.w_zaxis.set_ticklabels([])\n",
    "# 'Frozen', 'Detergents_Paper', 'Delicassen'\n",
    "ax.set_xlabel('Frozen')\n",
    "ax.set_ylabel('Detergents_Paper')\n",
    "ax.set_zlabel('Delicassen')"
   ]
  },
  {
   "cell_type": "markdown",
   "metadata": {},
   "source": [
    "### Experiment with the DBSCAN properties"
   ]
  },
  {
   "cell_type": "markdown",
   "metadata": {},
   "source": [
    "* DBSCAN - Density-Based Spatial Clustering of Applications with Noise. Finds core samples of high density and expands clusters from them. Good for data which contains clusters of similar density."
   ]
  },
  {
   "cell_type": "markdown",
   "metadata": {},
   "source": [
    "* Read up on the epsilon and min_samples arguments into DBSCAN at https://scikit-learn.org/stable/modules/generated/sklearn.cluster.DBSCAN.html"
   ]
  },
  {
   "cell_type": "markdown",
   "metadata": {},
   "source": [
    "#### 1. Experiment with altering the epsilon values (the eps argument holding the threshhold parameter). Run the models and visualize the results. What has changed? Why do you think that is?"
   ]
  },
  {
   "cell_type": "markdown",
   "metadata": {},
   "source": [
    "<b>Parameters: </b>\n",
    "<br> <b>eps: float, default=0.5 </b>\n",
    "    <br> The maximum distance between two samples for one to be considered as in the neighborhood of the other. This is not a maximum bound on the distances of points within a cluster. This is the most important DBSCAN parameter to choose appropriately for your data set and distance function."
   ]
  },
  {
   "cell_type": "markdown",
   "metadata": {},
   "source": [
    "- epsilon is a distance parameter\n",
    "- epsilon is simply a distance that you set\n",
    "- you can think of it like a radius froma datapoint that broadcasts out in all directions, forming a perimeter around that datapoint"
   ]
  },
  {
   "cell_type": "code",
   "execution_count": 29,
   "metadata": {},
   "outputs": [],
   "source": [
    "X = df.values.astype(\"float32\", copy = False)\n",
    "eps = .10\n",
    "min_samples = 20\n",
    "\n",
    "def dbscan(X, eps, min_samples):\n",
    "    mm = MinMaxScaler()\n",
    "    X = mm.fit_transform(X)\n",
    "    db = DBSCAN(eps=eps, min_samples=min_samples)\n",
    "    db.fit(X)\n",
    "    y_pred = db.fit_predict(X)\n",
    "    plt.scatter(X[:,0], X[:,1],c=y_pred, cmap='tab20')\n",
    "    plt.title(\"DBSCAN\")"
   ]
  },
  {
   "cell_type": "code",
   "execution_count": 30,
   "metadata": {},
   "outputs": [
    {
     "data": {
      "image/png": "[encoded data removed]",
      "text/plain": [
       "<Figure size 432x288 with 1 Axes>"
      ]
     },
     "metadata": {
      "needs_background": "light"
     },
     "output_type": "display_data"
    }
   ],
   "source": [
    "#eps = .10\n",
    "eps = .10\n",
    "dbscan(X, eps, min_samples)"
   ]
  },
  {
   "cell_type": "code",
   "execution_count": 31,
   "metadata": {},
   "outputs": [
    {
     "data": {
      "image/png": "[encoded data removed]",
      "text/plain": [
       "<Figure size 432x288 with 1 Axes>"
      ]
     },
     "metadata": {
      "needs_background": "light"
     },
     "output_type": "display_data"
    }
   ],
   "source": [
    "#eps = .20\n",
    "eps = .20\n",
    "dbscan(X, eps, min_samples)"
   ]
  },
  {
   "cell_type": "code",
   "execution_count": 32,
   "metadata": {},
   "outputs": [
    {
     "data": {
      "image/png": "[encoded data removed]",
      "text/plain": [
       "<Figure size 432x288 with 1 Axes>"
      ]
     },
     "metadata": {
      "needs_background": "light"
     },
     "output_type": "display_data"
    }
   ],
   "source": [
    "#eps = .30\n",
    "eps = .30\n",
    "dbscan(X, eps, min_samples)"
   ]
  },
  {
   "cell_type": "code",
   "execution_count": 33,
   "metadata": {},
   "outputs": [
    {
     "data": {
      "image/png": "[encoded data removed]",
      "text/plain": [
       "<Figure size 432x288 with 1 Axes>"
      ]
     },
     "metadata": {
      "needs_background": "light"
     },
     "output_type": "display_data"
    }
   ],
   "source": [
    "#eps = .40\n",
    "eps = .40\n",
    "dbscan(X, eps, min_samples)"
   ]
  },
  {
   "cell_type": "code",
   "execution_count": 35,
   "metadata": {},
   "outputs": [
    {
     "data": {
      "image/png": "[encoded data removed]",
      "text/plain": [
       "<Figure size 432x288 with 1 Axes>"
      ]
     },
     "metadata": {
      "needs_background": "light"
     },
     "output_type": "display_data"
    }
   ],
   "source": [
    "#eps = .90\n",
    "eps = .90\n",
    "dbscan(X, eps, min_samples)"
   ]
  },
  {
   "cell_type": "markdown",
   "metadata": {},
   "source": [
    "#### 2. Double the min_samples parameter. Run your model and visualize the results. Consider what changed and why."
   ]
  },
  {
   "cell_type": "markdown",
   "metadata": {},
   "source": [
    "<br> <b>min_samples: int, default=5 </b>\n",
    "    <br> The number of samples (or total weight) in a neighborhood for a point to be considered as a core point. This includes the point itself."
   ]
  },
  {
   "cell_type": "markdown",
   "metadata": {},
   "source": [
    "- minimum points is the minimum number of core points (including the starting point) that must exist for a cluster to be formed"
   ]
  },
  {
   "cell_type": "code",
   "execution_count": 36,
   "metadata": {},
   "outputs": [],
   "source": [
    "X = df.values.astype(\"float32\", copy = False)\n",
    "eps = .10\n",
    "min_samples = 20\n",
    "\n",
    "def dbscan(X, eps, min_samples):\n",
    "    mm = MinMaxScaler()\n",
    "    X = mm.fit_transform(X)\n",
    "    db = DBSCAN(eps=eps, min_samples=min_samples)\n",
    "    db.fit(X)\n",
    "    y_pred = db.fit_predict(X)\n",
    "    plt.scatter(X[:,0], X[:,1],c=y_pred, cmap='tab20')\n",
    "    plt.title(\"DBSCAN\")"
   ]
  },
  {
   "cell_type": "code",
   "execution_count": 38,
   "metadata": {},
   "outputs": [
    {
     "data": {
      "image/png": "[encoded data removed]",
      "text/plain": [
       "<Figure size 432x288 with 1 Axes>"
      ]
     },
     "metadata": {
      "needs_background": "light"
     },
     "output_type": "display_data"
    }
   ],
   "source": [
    "# min samples = 20\n",
    "dbscan(X, eps, min_samples)"
   ]
  },
  {
   "cell_type": "code",
   "execution_count": 39,
   "metadata": {},
   "outputs": [
    {
     "data": {
      "image/png": "[encoded data removed]",
      "text/plain": [
       "<Figure size 432x288 with 1 Axes>"
      ]
     },
     "metadata": {
      "needs_background": "light"
     },
     "output_type": "display_data"
    }
   ],
   "source": [
    "# min samples = 40\n",
    "min_samples = 40\n",
    "dbscan(X, eps, min_samples)"
   ]
  },
  {
   "cell_type": "markdown",
   "metadata": {},
   "source": [
    "#### The minimum samples required to form a cluster increased from 20 core points to 40 core points.  With the minimum sample doubled, a cluster now can only form with 40 core points, which is why the dark blue points increased to include those 40 core points. "
   ]
  },
  {
   "cell_type": "markdown",
   "metadata": {},
   "source": [
    "### 2. Use DBSCAN to detect anomalies in number of bedrooms and finished square feet of property for the filtered dataset you used in the clustering project (single unit properties with a logerror)."
   ]
  },
  {
   "cell_type": "code",
   "execution_count": 91,
   "metadata": {},
   "outputs": [],
   "source": [
    "def zillow17():\n",
    "    '''\n",
    "    This function reads in the zillow data from the Codeup db\n",
    "    and returns a pandas DataFrame with:\n",
    "    - all fields related to the properties that are available\n",
    "    - using all the tables in the database\n",
    "    - Only include properties with a transaction in 2017\n",
    "    - include only the last transaction for each property\n",
    "    - zestimate error\n",
    "    - date of transaction\n",
    "    - Only include properties that include a latitude and longitude value\n",
    "    '''\n",
    "    \n",
    "    query = \"\"\"\n",
    "            SELECT prop.*,\n",
    "                   pred.logerror,\n",
    "                   pred.transactiondate,\n",
    "                   air.airconditioningdesc,\n",
    "                   arch.architecturalstyledesc,\n",
    "                   build.buildingclassdesc,\n",
    "                   heat.heatingorsystemdesc,\n",
    "                   landuse.propertylandusedesc,\n",
    "                   story.storydesc,\n",
    "                   construct.typeconstructiondesc\n",
    "            FROM   properties_2017 prop\n",
    "            INNER JOIN (SELECT parcelid,\n",
    "                               logerror,\n",
    "                               Max(transactiondate) transactiondate\n",
    "                        FROM   predictions_2017\n",
    "                        GROUP  BY parcelid, logerror) pred\n",
    "                     USING (parcelid)\n",
    "            LEFT JOIN airconditioningtype air USING (airconditioningtypeid)\n",
    "            LEFT JOIN architecturalstyletype arch USING (architecturalstyletypeid)\n",
    "            LEFT JOIN buildingclasstype build USING (buildingclasstypeid)\n",
    "            LEFT JOIN heatingorsystemtype heat USING (heatingorsystemtypeid)\n",
    "            LEFT JOIN propertylandusetype landuse USING (propertylandusetypeid)\n",
    "            LEFT JOIN storytype story USING (storytypeid)\n",
    "            LEFT JOIN typeconstructiontype construct USING (typeconstructiontypeid)\n",
    "            WHERE prop.latitude IS NOT NULL\n",
    "                  AND prop.longitude IS NOT NULL\n",
    "                  AND transactiondate like '2017%%'\n",
    "    \"\"\"\n",
    "    url = get_db_url(\"zillow\")\n",
    "    df = pd.read_sql(query, url)\n",
    "    \n",
    "    return df"
   ]
  },
  {
   "cell_type": "code",
   "execution_count": 92,
   "metadata": {},
   "outputs": [],
   "source": [
    "    \n",
    "def drop_based_on_pct(df, pc, pr):\n",
    "    \"\"\"\n",
    "    drop_based_on_pct takes in: \n",
    "    - dataframe, \n",
    "    - threshold percent of non-null values for columns(# between 0-1), \n",
    "    - threshold percent of non-null values for rows(# between 0-1)\n",
    "    Returns: a dataframe with the columns and rows dropped as indicated.\n",
    "    \"\"\"\n",
    "    tpc = 1-pc\n",
    "    tpr = 1-pr\n",
    "    df.dropna(axis = 1, thresh = tpc * len(df.index), inplace = True)\n",
    "    df.dropna(axis = 0, thresh = tpr * len(df.columns), inplace = True)\n",
    "    return df\n",
    "    \n",
    "    \n",
    "\n",
    "\n",
    "    \n",
    "def outlier(df, feature, m):\n",
    "    '''\n",
    "    outlier will take in a dataframe's feature:\n",
    "    - calculate it's 1st & 3rd quartiles,\n",
    "    - use their difference to calculate the IQR\n",
    "    - then apply to calculate upper and lower bounds\n",
    "    - using the `m` multiplier\n",
    "    '''\n",
    "    q1 = df[feature].quantile(.25)\n",
    "    q3 = df[feature].quantile(.75)\n",
    "    \n",
    "    iqr = q3 - q1\n",
    "    \n",
    "    multiplier = m\n",
    "    upper_bound = q3 + (multiplier * iqr)\n",
    "    lower_bound = q1 - (multiplier * iqr)\n",
    "    \n",
    "    return upper_bound, lower_bound\n",
    "\n",
    "\n",
    "\n",
    "\n",
    "    \n",
    "    \n",
    "def clean_zillow(df):\n",
    "    \"\"\"\n",
    "    clean_zillow will:\n",
    "    - read in df acquired from SQL query\n",
    "    - filter data to single unit homes with min 1B/1B over 500 sqft\n",
    "    - drop columns with 40%+ & rows 30%+ null\n",
    "    - add a column for county names\n",
    "    - drop unnecessary columns\n",
    "    - fills in unitcnt/lotsizesquarefeet/buildingqualitytypeid nulls\n",
    "    - drops remaining nulls\n",
    "    - removes extreme outliers for home_value & sqft\n",
    "    - adds a home_age & log_quartiles column\n",
    "    - converts certain float columns to int\n",
    "    - renames certain columns\n",
    "    \"\"\"\n",
    "    \n",
    "    # Restrict df to only properties that meet single-use criteria\n",
    "    single_use = [260, 261, 262, 263, 264, 265, 266, 267, 268, 269, 273, 275, 276, 279]\n",
    "    df = df[df.propertylandusetypeid.isin(single_use)]\n",
    "    \n",
    "    # Filter those properties without at least 1 bath & bed and 500 sqft area\n",
    "    df = df[(df.bedroomcnt > 0) & (df.bathroomcnt > 0) & ((df.unitcnt<=1)|df.unitcnt.isnull())\\\n",
    "            & (df.calculatedfinishedsquarefeet>500)]\n",
    "    \n",
    "    # Handle missing values i.e. drop columns and rows based on a threshold\n",
    "    df = drop_based_on_pct(df, .6, .7)\n",
    "    \n",
    "    # Add column for counties\n",
    "    df['county'] = np.where(df.fips == 6037, 'Los_Angeles',\n",
    "                           np.where(df.fips == 6059, 'Orange',\n",
    "                                   'Ventura'))\n",
    "    \n",
    "    # Drop unnecessary/redundant columns\n",
    "    df = df.drop(['id', 'calculatedbathnbr', 'finishedsquarefeet12', \n",
    "                  'fullbathcnt', 'heatingorsystemtypeid', \n",
    "                  'propertycountylandusecode', 'propertylandusetypeid', \n",
    "                  'propertyzoningdesc', 'censustractandblock', 'propertylandusedesc', \n",
    "                  'heatingorsystemdesc', 'assessmentyear', 'regionidcounty' ],axis=1)\n",
    "    \n",
    "    \n",
    "    # Replace nulls with median values for select columns\n",
    "    df.lotsizesquarefeet.fillna(7265, inplace = True)\n",
    "    df.buildingqualitytypeid.fillna(7.0, inplace = True)\n",
    "    \n",
    "    # Drop any remaining nulls\n",
    "    df = df.dropna()\n",
    "    \n",
    "    # Columns that need to be adjusted for outliers\n",
    "    df = df[df.taxvaluedollarcnt < 5_000_000]\n",
    "    df = df[df.calculatedfinishedsquarefeet < 12500]\n",
    "    \n",
    "    # create column for age of home\n",
    "    df['home_age'] = 2021 - df.yearbuilt\n",
    "    \n",
    "    # List of cols to convert to 'int'\n",
    "    cols = ['fips', 'buildingqualitytypeid', 'bedroomcnt', \n",
    "            'home_age', 'yearbuilt']\n",
    "    # loop through cols list in conversion\n",
    "    for col in cols:\n",
    "        df[col] = df[col].astype('int')\n",
    "        \n",
    "    # Rename columns\n",
    "    df.rename(columns={\"bathroomcnt\": \"bathrooms\", \n",
    "                   \"bedroomcnt\": \"bedrooms\",\n",
    "                   \"buildingqualitytypeid\": \"property_quality\", \n",
    "                   \"calculatedfinishedsquarefeet\": \"sqft\",\n",
    "                   \"lotsizesquarefeet\": \"lot_sqft\",\n",
    "                   \"regionidzip\": \"zip_code\",\n",
    "                   \"landtaxvaluedollarcnt\": \"land_value\",\n",
    "                   \"structuretaxvaluedollarcnt\": \"structure_value\",\n",
    "                   \"taxvaluedollarcnt\": \"home_value\"\n",
    "                  }, inplace=True)\n",
    "    \n",
    "\n",
    "    # create a categorical version of target by splitting into quartiles\n",
    "    df['logerror_quartiles'] = pd.qcut(df.logerror, q=4, labels=['q1', 'q2', 'q3', 'q4'])\n",
    "    \n",
    "    # Drop unnecessary/redundant columns\n",
    "    df = df.drop(['rawcensustractandblock', 'regionidcity', 'zip_code', 'roomcnt', 'unitcnt', 'transactiondate'],axis=1)\n",
    "    \n",
    "    return df"
   ]
  },
  {
   "cell_type": "code",
   "execution_count": 93,
   "metadata": {},
   "outputs": [],
   "source": [
    "df = clean_zillow(zillow17())"
   ]
  },
  {
   "cell_type": "code",
   "execution_count": 94,
   "metadata": {},
   "outputs": [
    {
     "data": {
      "text/html": [
       "<div>\n",
       "<style scoped>\n",
       "    .dataframe tbody tr th:only-of-type {\n",
       "        vertical-align: middle;\n",
       "    }\n",
       "\n",
       "    .dataframe tbody tr th {\n",
       "        vertical-align: top;\n",
       "    }\n",
       "\n",
       "    .dataframe thead th {\n",
       "        text-align: right;\n",
       "    }\n",
       "</style>\n",
       "<table border=\"1\" class=\"dataframe\">\n",
       "  <thead>\n",
       "    <tr style=\"text-align: right;\">\n",
       "      <th></th>\n",
       "      <th>parcelid</th>\n",
       "      <th>bathrooms</th>\n",
       "      <th>bedrooms</th>\n",
       "      <th>property_quality</th>\n",
       "      <th>sqft</th>\n",
       "      <th>fips</th>\n",
       "      <th>latitude</th>\n",
       "      <th>longitude</th>\n",
       "      <th>lot_sqft</th>\n",
       "      <th>yearbuilt</th>\n",
       "      <th>structure_value</th>\n",
       "      <th>home_value</th>\n",
       "      <th>land_value</th>\n",
       "      <th>taxamount</th>\n",
       "      <th>logerror</th>\n",
       "      <th>county</th>\n",
       "      <th>home_age</th>\n",
       "      <th>logerror_quartiles</th>\n",
       "    </tr>\n",
       "  </thead>\n",
       "  <tbody>\n",
       "    <tr>\n",
       "      <th>3</th>\n",
       "      <td>12177905</td>\n",
       "      <td>3.0</td>\n",
       "      <td>4</td>\n",
       "      <td>8</td>\n",
       "      <td>2376.0</td>\n",
       "      <td>6037</td>\n",
       "      <td>34245180.0</td>\n",
       "      <td>-118240722.0</td>\n",
       "      <td>13038.0</td>\n",
       "      <td>1970</td>\n",
       "      <td>108918.0</td>\n",
       "      <td>145143.0</td>\n",
       "      <td>36225.0</td>\n",
       "      <td>1777.51</td>\n",
       "      <td>-0.103410</td>\n",
       "      <td>Los_Angeles</td>\n",
       "      <td>51</td>\n",
       "      <td>q1</td>\n",
       "    </tr>\n",
       "    <tr>\n",
       "      <th>4</th>\n",
       "      <td>10887214</td>\n",
       "      <td>3.0</td>\n",
       "      <td>3</td>\n",
       "      <td>8</td>\n",
       "      <td>1312.0</td>\n",
       "      <td>6037</td>\n",
       "      <td>34185120.0</td>\n",
       "      <td>-118414640.0</td>\n",
       "      <td>278581.0</td>\n",
       "      <td>1964</td>\n",
       "      <td>73681.0</td>\n",
       "      <td>119407.0</td>\n",
       "      <td>45726.0</td>\n",
       "      <td>1533.89</td>\n",
       "      <td>0.006940</td>\n",
       "      <td>Los_Angeles</td>\n",
       "      <td>57</td>\n",
       "      <td>q3</td>\n",
       "    </tr>\n",
       "    <tr>\n",
       "      <th>6</th>\n",
       "      <td>12095076</td>\n",
       "      <td>3.0</td>\n",
       "      <td>4</td>\n",
       "      <td>9</td>\n",
       "      <td>2962.0</td>\n",
       "      <td>6037</td>\n",
       "      <td>34145202.0</td>\n",
       "      <td>-118179824.0</td>\n",
       "      <td>63000.0</td>\n",
       "      <td>1950</td>\n",
       "      <td>276684.0</td>\n",
       "      <td>773303.0</td>\n",
       "      <td>496619.0</td>\n",
       "      <td>9516.26</td>\n",
       "      <td>-0.001011</td>\n",
       "      <td>Los_Angeles</td>\n",
       "      <td>71</td>\n",
       "      <td>q2</td>\n",
       "    </tr>\n",
       "    <tr>\n",
       "      <th>7</th>\n",
       "      <td>12069064</td>\n",
       "      <td>1.0</td>\n",
       "      <td>2</td>\n",
       "      <td>5</td>\n",
       "      <td>738.0</td>\n",
       "      <td>6037</td>\n",
       "      <td>34149214.0</td>\n",
       "      <td>-118239357.0</td>\n",
       "      <td>4214.0</td>\n",
       "      <td>1922</td>\n",
       "      <td>18890.0</td>\n",
       "      <td>218552.0</td>\n",
       "      <td>199662.0</td>\n",
       "      <td>2366.08</td>\n",
       "      <td>0.101723</td>\n",
       "      <td>Los_Angeles</td>\n",
       "      <td>99</td>\n",
       "      <td>q4</td>\n",
       "    </tr>\n",
       "    <tr>\n",
       "      <th>8</th>\n",
       "      <td>12790562</td>\n",
       "      <td>3.0</td>\n",
       "      <td>4</td>\n",
       "      <td>9</td>\n",
       "      <td>3039.0</td>\n",
       "      <td>6037</td>\n",
       "      <td>33960230.0</td>\n",
       "      <td>-118006914.0</td>\n",
       "      <td>20028.0</td>\n",
       "      <td>1970</td>\n",
       "      <td>177527.0</td>\n",
       "      <td>220583.0</td>\n",
       "      <td>43056.0</td>\n",
       "      <td>3104.19</td>\n",
       "      <td>-0.040966</td>\n",
       "      <td>Los_Angeles</td>\n",
       "      <td>51</td>\n",
       "      <td>q1</td>\n",
       "    </tr>\n",
       "  </tbody>\n",
       "</table>\n",
       "</div>"
      ],
      "text/plain": [
       "   parcelid  bathrooms  bedrooms  property_quality    sqft  fips    latitude  \\\n",
       "3  12177905        3.0         4                 8  2376.0  6037  34245180.0   \n",
       "4  10887214        3.0         3                 8  1312.0  6037  34185120.0   \n",
       "6  12095076        3.0         4                 9  2962.0  6037  34145202.0   \n",
       "7  12069064        1.0         2                 5   738.0  6037  34149214.0   \n",
       "8  12790562        3.0         4                 9  3039.0  6037  33960230.0   \n",
       "\n",
       "     longitude  lot_sqft  yearbuilt  structure_value  home_value  land_value  \\\n",
       "3 -118240722.0   13038.0       1970         108918.0    145143.0     36225.0   \n",
       "4 -118414640.0  278581.0       1964          73681.0    119407.0     45726.0   \n",
       "6 -118179824.0   63000.0       1950         276684.0    773303.0    496619.0   \n",
       "7 -118239357.0    4214.0       1922          18890.0    218552.0    199662.0   \n",
       "8 -118006914.0   20028.0       1970         177527.0    220583.0     43056.0   \n",
       "\n",
       "   taxamount  logerror       county  home_age logerror_quartiles  \n",
       "3    1777.51 -0.103410  Los_Angeles        51                 q1  \n",
       "4    1533.89  0.006940  Los_Angeles        57                 q3  \n",
       "6    9516.26 -0.001011  Los_Angeles        71                 q2  \n",
       "7    2366.08  0.101723  Los_Angeles        99                 q4  \n",
       "8    3104.19 -0.040966  Los_Angeles        51                 q1  "
      ]
     },
     "execution_count": 94,
     "metadata": {},
     "output_type": "execute_result"
    }
   ],
   "source": [
    "df.head()"
   ]
  },
  {
   "cell_type": "code",
   "execution_count": 95,
   "metadata": {},
   "outputs": [
    {
     "name": "stdout",
     "output_type": "stream",
     "text": [
      "<class 'pandas.core.frame.DataFrame'>\n",
      "Int64Index: 45788 entries, 3 to 77573\n",
      "Data columns (total 18 columns):\n",
      " #   Column              Non-Null Count  Dtype   \n",
      "---  ------              --------------  -----   \n",
      " 0   parcelid            45788 non-null  int64   \n",
      " 1   bathrooms           45788 non-null  float64 \n",
      " 2   bedrooms            45788 non-null  int64   \n",
      " 3   property_quality    45788 non-null  int64   \n",
      " 4   sqft                45788 non-null  float64 \n",
      " 5   fips                45788 non-null  int64   \n",
      " 6   latitude            45788 non-null  float64 \n",
      " 7   longitude           45788 non-null  float64 \n",
      " 8   lot_sqft            45788 non-null  float64 \n",
      " 9   yearbuilt           45788 non-null  int64   \n",
      " 10  structure_value     45788 non-null  float64 \n",
      " 11  home_value          45788 non-null  float64 \n",
      " 12  land_value          45788 non-null  float64 \n",
      " 13  taxamount           45788 non-null  float64 \n",
      " 14  logerror            45788 non-null  float64 \n",
      " 15  county              45788 non-null  object  \n",
      " 16  home_age            45788 non-null  int64   \n",
      " 17  logerror_quartiles  45788 non-null  category\n",
      "dtypes: category(1), float64(10), int64(6), object(1)\n",
      "memory usage: 6.3+ MB\n"
     ]
    }
   ],
   "source": [
    "df.info()"
   ]
  },
  {
   "cell_type": "code",
   "execution_count": 96,
   "metadata": {},
   "outputs": [
    {
     "data": {
      "text/plain": [
       "(45788, 18)"
      ]
     },
     "execution_count": 96,
     "metadata": {},
     "output_type": "execute_result"
    }
   ],
   "source": [
    "df.shape"
   ]
  },
  {
   "cell_type": "code",
   "execution_count": 97,
   "metadata": {},
   "outputs": [],
   "source": [
    "# select variables you want to cluster\n",
    "df = df[[\"bedrooms\", \"sqft\"]]"
   ]
  },
  {
   "cell_type": "code",
   "execution_count": 98,
   "metadata": {},
   "outputs": [
    {
     "data": {
      "text/html": [
       "<div>\n",
       "<style scoped>\n",
       "    .dataframe tbody tr th:only-of-type {\n",
       "        vertical-align: middle;\n",
       "    }\n",
       "\n",
       "    .dataframe tbody tr th {\n",
       "        vertical-align: top;\n",
       "    }\n",
       "\n",
       "    .dataframe thead th {\n",
       "        text-align: right;\n",
       "    }\n",
       "</style>\n",
       "<table border=\"1\" class=\"dataframe\">\n",
       "  <thead>\n",
       "    <tr style=\"text-align: right;\">\n",
       "      <th></th>\n",
       "      <th>bedrooms</th>\n",
       "      <th>sqft</th>\n",
       "    </tr>\n",
       "  </thead>\n",
       "  <tbody>\n",
       "    <tr>\n",
       "      <th>3</th>\n",
       "      <td>4</td>\n",
       "      <td>2376.0</td>\n",
       "    </tr>\n",
       "    <tr>\n",
       "      <th>4</th>\n",
       "      <td>3</td>\n",
       "      <td>1312.0</td>\n",
       "    </tr>\n",
       "    <tr>\n",
       "      <th>6</th>\n",
       "      <td>4</td>\n",
       "      <td>2962.0</td>\n",
       "    </tr>\n",
       "    <tr>\n",
       "      <th>7</th>\n",
       "      <td>2</td>\n",
       "      <td>738.0</td>\n",
       "    </tr>\n",
       "    <tr>\n",
       "      <th>8</th>\n",
       "      <td>4</td>\n",
       "      <td>3039.0</td>\n",
       "    </tr>\n",
       "  </tbody>\n",
       "</table>\n",
       "</div>"
      ],
      "text/plain": [
       "   bedrooms    sqft\n",
       "3         4  2376.0\n",
       "4         3  1312.0\n",
       "6         4  2962.0\n",
       "7         2   738.0\n",
       "8         4  3039.0"
      ]
     },
     "execution_count": 98,
     "metadata": {},
     "output_type": "execute_result"
    }
   ],
   "source": [
    "df.head()"
   ]
  },
  {
   "cell_type": "code",
   "execution_count": 99,
   "metadata": {},
   "outputs": [
    {
     "data": {
      "text/plain": [
       "(45788, 2)"
      ]
     },
     "execution_count": 99,
     "metadata": {},
     "output_type": "execute_result"
    }
   ],
   "source": [
    "df.shape"
   ]
  },
  {
   "cell_type": "code",
   "execution_count": 100,
   "metadata": {},
   "outputs": [
    {
     "data": {
      "text/plain": [
       "array([[4.000e+00, 2.376e+03],\n",
       "       [3.000e+00, 1.312e+03],\n",
       "       [4.000e+00, 2.962e+03],\n",
       "       [2.000e+00, 7.380e+02],\n",
       "       [4.000e+00, 3.039e+03],\n",
       "       [2.000e+00, 1.290e+03],\n",
       "       [4.000e+00, 2.540e+03],\n",
       "       [3.000e+00, 1.435e+03],\n",
       "       [2.000e+00, 1.146e+03],\n",
       "       [3.000e+00, 1.092e+03]], dtype=float32)"
      ]
     },
     "execution_count": 100,
     "metadata": {},
     "output_type": "execute_result"
    }
   ],
   "source": [
    "np_array = df.values.astype(\"float32\", copy = False)\n",
    "np_array[0:10]"
   ]
  },
  {
   "cell_type": "code",
   "execution_count": 101,
   "metadata": {},
   "outputs": [
    {
     "data": {
      "text/plain": [
       "(45788, 2)"
      ]
     },
     "execution_count": 101,
     "metadata": {},
     "output_type": "execute_result"
    }
   ],
   "source": [
    "np_array.shape"
   ]
  },
  {
   "cell_type": "code",
   "execution_count": 102,
   "metadata": {},
   "outputs": [
    {
     "data": {
      "text/plain": [
       "array([[0.3       , 0.1625065 ],\n",
       "       [0.20000002, 0.07028948],\n",
       "       [0.3       , 0.2132952 ],\n",
       "       [0.1       , 0.02054082],\n",
       "       [0.3       , 0.21996878],\n",
       "       [0.1       , 0.06838274],\n",
       "       [0.3       , 0.1767204 ],\n",
       "       [0.20000002, 0.0809499 ],\n",
       "       [0.1       , 0.05590223],\n",
       "       [0.20000002, 0.05122204]], dtype=float32)"
      ]
     },
     "execution_count": 102,
     "metadata": {},
     "output_type": "execute_result"
    }
   ],
   "source": [
    "scaler = MinMaxScaler().fit(np_array)\n",
    "np_array = scaler.transform(np_array)\n",
    "np_array[0:10]"
   ]
  },
  {
   "cell_type": "code",
   "execution_count": 103,
   "metadata": {},
   "outputs": [],
   "source": [
    "#Construct a DBSCAN object that requires a minimum of 15 data points in a neighborhood \n",
    "#of radius 0.5 to be considered a core point.\n",
    "dbsc = DBSCAN(eps = .10, min_samples = 20).fit(np_array)\n"
   ]
  },
  {
   "cell_type": "code",
   "execution_count": 104,
   "metadata": {},
   "outputs": [],
   "source": [
    "# Now, let's add the scaled value columns back onto the dataframe\n",
    "columns = list(df.columns)\n",
    "scaled_columns = [\"Scaled_\" + column for column in columns]\n",
    "\n"
   ]
  },
  {
   "cell_type": "code",
   "execution_count": 105,
   "metadata": {},
   "outputs": [
    {
     "data": {
      "text/plain": [
       "['Scaled_bedrooms', 'Scaled_sqft']"
      ]
     },
     "execution_count": 105,
     "metadata": {},
     "output_type": "execute_result"
    }
   ],
   "source": [
    "scaled_columns"
   ]
  },
  {
   "cell_type": "code",
   "execution_count": 106,
   "metadata": {},
   "outputs": [],
   "source": [
    "# Save a copy of the original dataframe\n",
    "original_df = df.copy()\n",
    "\n",
    "# Create a dataframe containing the scaled values\n",
    "scaled_df = pd.DataFrame(np_array, columns=scaled_columns)\n",
    "\n",
    "# Merge the scaled and non-scaled values into one dataframe\n",
    "df = df.merge(scaled_df, on=df.index)\n",
    "df = df.drop(columns=['key_0'])"
   ]
  },
  {
   "cell_type": "code",
   "execution_count": 107,
   "metadata": {},
   "outputs": [
    {
     "data": {
      "text/plain": [
       "(45788, 2)"
      ]
     },
     "execution_count": 107,
     "metadata": {},
     "output_type": "execute_result"
    }
   ],
   "source": [
    "original_df.shape"
   ]
  },
  {
   "cell_type": "code",
   "execution_count": 108,
   "metadata": {},
   "outputs": [
    {
     "data": {
      "text/html": [
       "<div>\n",
       "<style scoped>\n",
       "    .dataframe tbody tr th:only-of-type {\n",
       "        vertical-align: middle;\n",
       "    }\n",
       "\n",
       "    .dataframe tbody tr th {\n",
       "        vertical-align: top;\n",
       "    }\n",
       "\n",
       "    .dataframe thead th {\n",
       "        text-align: right;\n",
       "    }\n",
       "</style>\n",
       "<table border=\"1\" class=\"dataframe\">\n",
       "  <thead>\n",
       "    <tr style=\"text-align: right;\">\n",
       "      <th></th>\n",
       "      <th>bedrooms</th>\n",
       "      <th>sqft</th>\n",
       "    </tr>\n",
       "  </thead>\n",
       "  <tbody>\n",
       "    <tr>\n",
       "      <th>3</th>\n",
       "      <td>4</td>\n",
       "      <td>2376.0</td>\n",
       "    </tr>\n",
       "    <tr>\n",
       "      <th>4</th>\n",
       "      <td>3</td>\n",
       "      <td>1312.0</td>\n",
       "    </tr>\n",
       "    <tr>\n",
       "      <th>6</th>\n",
       "      <td>4</td>\n",
       "      <td>2962.0</td>\n",
       "    </tr>\n",
       "    <tr>\n",
       "      <th>7</th>\n",
       "      <td>2</td>\n",
       "      <td>738.0</td>\n",
       "    </tr>\n",
       "    <tr>\n",
       "      <th>8</th>\n",
       "      <td>4</td>\n",
       "      <td>3039.0</td>\n",
       "    </tr>\n",
       "  </tbody>\n",
       "</table>\n",
       "</div>"
      ],
      "text/plain": [
       "   bedrooms    sqft\n",
       "3         4  2376.0\n",
       "4         3  1312.0\n",
       "6         4  2962.0\n",
       "7         2   738.0\n",
       "8         4  3039.0"
      ]
     },
     "execution_count": 108,
     "metadata": {},
     "output_type": "execute_result"
    }
   ],
   "source": [
    "original_df.head()"
   ]
  },
  {
   "cell_type": "code",
   "execution_count": 109,
   "metadata": {},
   "outputs": [
    {
     "data": {
      "text/plain": [
       "(45788, 2)"
      ]
     },
     "execution_count": 109,
     "metadata": {},
     "output_type": "execute_result"
    }
   ],
   "source": [
    "scaled_df.shape"
   ]
  },
  {
   "cell_type": "code",
   "execution_count": 110,
   "metadata": {},
   "outputs": [
    {
     "data": {
      "text/html": [
       "<div>\n",
       "<style scoped>\n",
       "    .dataframe tbody tr th:only-of-type {\n",
       "        vertical-align: middle;\n",
       "    }\n",
       "\n",
       "    .dataframe tbody tr th {\n",
       "        vertical-align: top;\n",
       "    }\n",
       "\n",
       "    .dataframe thead th {\n",
       "        text-align: right;\n",
       "    }\n",
       "</style>\n",
       "<table border=\"1\" class=\"dataframe\">\n",
       "  <thead>\n",
       "    <tr style=\"text-align: right;\">\n",
       "      <th></th>\n",
       "      <th>Scaled_bedrooms</th>\n",
       "      <th>Scaled_sqft</th>\n",
       "    </tr>\n",
       "  </thead>\n",
       "  <tbody>\n",
       "    <tr>\n",
       "      <th>0</th>\n",
       "      <td>0.3</td>\n",
       "      <td>0.162507</td>\n",
       "    </tr>\n",
       "    <tr>\n",
       "      <th>1</th>\n",
       "      <td>0.2</td>\n",
       "      <td>0.070289</td>\n",
       "    </tr>\n",
       "    <tr>\n",
       "      <th>2</th>\n",
       "      <td>0.3</td>\n",
       "      <td>0.213295</td>\n",
       "    </tr>\n",
       "    <tr>\n",
       "      <th>3</th>\n",
       "      <td>0.1</td>\n",
       "      <td>0.020541</td>\n",
       "    </tr>\n",
       "    <tr>\n",
       "      <th>4</th>\n",
       "      <td>0.3</td>\n",
       "      <td>0.219969</td>\n",
       "    </tr>\n",
       "  </tbody>\n",
       "</table>\n",
       "</div>"
      ],
      "text/plain": [
       "   Scaled_bedrooms  Scaled_sqft\n",
       "0              0.3     0.162507\n",
       "1              0.2     0.070289\n",
       "2              0.3     0.213295\n",
       "3              0.1     0.020541\n",
       "4              0.3     0.219969"
      ]
     },
     "execution_count": 110,
     "metadata": {},
     "output_type": "execute_result"
    }
   ],
   "source": [
    "scaled_df.head()"
   ]
  },
  {
   "cell_type": "code",
   "execution_count": 111,
   "metadata": {},
   "outputs": [
    {
     "data": {
      "text/plain": [
       "(45788, 4)"
      ]
     },
     "execution_count": 111,
     "metadata": {},
     "output_type": "execute_result"
    }
   ],
   "source": [
    "df.shape"
   ]
  },
  {
   "cell_type": "code",
   "execution_count": 112,
   "metadata": {},
   "outputs": [
    {
     "data": {
      "text/html": [
       "<div>\n",
       "<style scoped>\n",
       "    .dataframe tbody tr th:only-of-type {\n",
       "        vertical-align: middle;\n",
       "    }\n",
       "\n",
       "    .dataframe tbody tr th {\n",
       "        vertical-align: top;\n",
       "    }\n",
       "\n",
       "    .dataframe thead th {\n",
       "        text-align: right;\n",
       "    }\n",
       "</style>\n",
       "<table border=\"1\" class=\"dataframe\">\n",
       "  <thead>\n",
       "    <tr style=\"text-align: right;\">\n",
       "      <th></th>\n",
       "      <th>bedrooms</th>\n",
       "      <th>sqft</th>\n",
       "      <th>Scaled_bedrooms</th>\n",
       "      <th>Scaled_sqft</th>\n",
       "    </tr>\n",
       "  </thead>\n",
       "  <tbody>\n",
       "    <tr>\n",
       "      <th>45783</th>\n",
       "      <td>4</td>\n",
       "      <td>1633.0</td>\n",
       "      <td>0.3</td>\n",
       "      <td>0.098111</td>\n",
       "    </tr>\n",
       "    <tr>\n",
       "      <th>45784</th>\n",
       "      <td>3</td>\n",
       "      <td>1741.0</td>\n",
       "      <td>0.2</td>\n",
       "      <td>0.107471</td>\n",
       "    </tr>\n",
       "    <tr>\n",
       "      <th>45785</th>\n",
       "      <td>2</td>\n",
       "      <td>1286.0</td>\n",
       "      <td>0.1</td>\n",
       "      <td>0.068036</td>\n",
       "    </tr>\n",
       "    <tr>\n",
       "      <th>45786</th>\n",
       "      <td>3</td>\n",
       "      <td>1032.0</td>\n",
       "      <td>0.2</td>\n",
       "      <td>0.046022</td>\n",
       "    </tr>\n",
       "    <tr>\n",
       "      <th>45787</th>\n",
       "      <td>3</td>\n",
       "      <td>1762.0</td>\n",
       "      <td>0.2</td>\n",
       "      <td>0.109291</td>\n",
       "    </tr>\n",
       "  </tbody>\n",
       "</table>\n",
       "</div>"
      ],
      "text/plain": [
       "       bedrooms    sqft  Scaled_bedrooms  Scaled_sqft\n",
       "45783         4  1633.0              0.3     0.098111\n",
       "45784         3  1741.0              0.2     0.107471\n",
       "45785         2  1286.0              0.1     0.068036\n",
       "45786         3  1032.0              0.2     0.046022\n",
       "45787         3  1762.0              0.2     0.109291"
      ]
     },
     "execution_count": 112,
     "metadata": {},
     "output_type": "execute_result"
    }
   ],
   "source": [
    "df.tail()"
   ]
  },
  {
   "cell_type": "code",
   "execution_count": 113,
   "metadata": {},
   "outputs": [
    {
     "data": {
      "text/plain": [
       "array([0, 0, 0, 1, 0, 1, 0, 0, 1, 0])"
      ]
     },
     "execution_count": 113,
     "metadata": {},
     "output_type": "execute_result"
    }
   ],
   "source": [
    "# Next, we can extract our cluster labels and outliers to plot our results.\n",
    "labels = dbsc.labels_\n",
    "labels[0:10]"
   ]
  },
  {
   "cell_type": "code",
   "execution_count": 114,
   "metadata": {},
   "outputs": [
    {
     "data": {
      "text/plain": [
       " 0    30885\n",
       " 1    12719\n",
       " 2     2140\n",
       "-1       44\n",
       "Name: labels, dtype: int64"
      ]
     },
     "execution_count": 114,
     "metadata": {},
     "output_type": "execute_result"
    }
   ],
   "source": [
    "df['labels'] = labels\n",
    "df.labels.value_counts()"
   ]
  },
  {
   "cell_type": "code",
   "execution_count": 115,
   "metadata": {},
   "outputs": [
    {
     "data": {
      "text/html": [
       "<div>\n",
       "<style scoped>\n",
       "    .dataframe tbody tr th:only-of-type {\n",
       "        vertical-align: middle;\n",
       "    }\n",
       "\n",
       "    .dataframe tbody tr th {\n",
       "        vertical-align: top;\n",
       "    }\n",
       "\n",
       "    .dataframe thead th {\n",
       "        text-align: right;\n",
       "    }\n",
       "</style>\n",
       "<table border=\"1\" class=\"dataframe\">\n",
       "  <thead>\n",
       "    <tr style=\"text-align: right;\">\n",
       "      <th></th>\n",
       "      <th>bedrooms</th>\n",
       "      <th>sqft</th>\n",
       "      <th>Scaled_bedrooms</th>\n",
       "      <th>Scaled_sqft</th>\n",
       "      <th>labels</th>\n",
       "    </tr>\n",
       "  </thead>\n",
       "  <tbody>\n",
       "    <tr>\n",
       "      <th>267</th>\n",
       "      <td>8</td>\n",
       "      <td>8837.0</td>\n",
       "      <td>0.7</td>\n",
       "      <td>0.722482</td>\n",
       "      <td>-1</td>\n",
       "    </tr>\n",
       "    <tr>\n",
       "      <th>1269</th>\n",
       "      <td>5</td>\n",
       "      <td>9848.0</td>\n",
       "      <td>0.4</td>\n",
       "      <td>0.810106</td>\n",
       "      <td>-1</td>\n",
       "    </tr>\n",
       "    <tr>\n",
       "      <th>1359</th>\n",
       "      <td>8</td>\n",
       "      <td>3247.0</td>\n",
       "      <td>0.7</td>\n",
       "      <td>0.237996</td>\n",
       "      <td>-1</td>\n",
       "    </tr>\n",
       "    <tr>\n",
       "      <th>1565</th>\n",
       "      <td>6</td>\n",
       "      <td>10686.0</td>\n",
       "      <td>0.5</td>\n",
       "      <td>0.882735</td>\n",
       "      <td>-1</td>\n",
       "    </tr>\n",
       "    <tr>\n",
       "      <th>1989</th>\n",
       "      <td>7</td>\n",
       "      <td>8391.0</td>\n",
       "      <td>0.6</td>\n",
       "      <td>0.683827</td>\n",
       "      <td>-1</td>\n",
       "    </tr>\n",
       "  </tbody>\n",
       "</table>\n",
       "</div>"
      ],
      "text/plain": [
       "      bedrooms     sqft  Scaled_bedrooms  Scaled_sqft  labels\n",
       "267          8   8837.0              0.7     0.722482      -1\n",
       "1269         5   9848.0              0.4     0.810106      -1\n",
       "1359         8   3247.0              0.7     0.237996      -1\n",
       "1565         6  10686.0              0.5     0.882735      -1\n",
       "1989         7   8391.0              0.6     0.683827      -1"
      ]
     },
     "execution_count": 115,
     "metadata": {},
     "output_type": "execute_result"
    }
   ],
   "source": [
    "df[df.labels==-1].head()\n"
   ]
  },
  {
   "cell_type": "code",
   "execution_count": 116,
   "metadata": {},
   "outputs": [
    {
     "name": "stdout",
     "output_type": "stream",
     "text": [
      "Population\n",
      "           bedrooms          sqft  Scaled_bedrooms   Scaled_sqft        labels\n",
      "count  45788.000000  45788.000000     45788.000000  45788.000000  45788.000000\n",
      "mean       2.952913   1674.996396         0.195318      0.101750      0.370294\n",
      "std        0.976770    839.503694         0.097682      0.072760      0.573219\n",
      "min        1.000000    501.000000         0.000000      0.000000     -1.000000\n",
      "25%        2.000000   1140.000000         0.100000      0.055382      0.000000\n",
      "50%        3.000000   1465.000000         0.200000      0.083550      0.000000\n",
      "75%        4.000000   1953.000000         0.300000      0.125845      1.000000\n",
      "max       11.000000  12039.000000         1.000000      1.000000      2.000000\n",
      "-------------\n",
      "Inliers\n",
      "           bedrooms          sqft  Scaled_bedrooms   Scaled_sqft   labels\n",
      "count  30885.000000  30885.000000     30885.000000  30885.000000  30885.0\n",
      "mean       3.474955   1921.113194         0.247513      0.123081      0.0\n",
      "std        0.690047    850.577710         0.069009      0.073720      0.0\n",
      "min        3.000000    615.000000         0.200000      0.009880      0.0\n",
      "25%        3.000000   1353.000000         0.200000      0.073843      0.0\n",
      "50%        3.000000   1680.000000         0.200000      0.102184      0.0\n",
      "75%        4.000000   2235.000000         0.300000      0.150286      0.0\n",
      "max        7.000000   8909.000000         0.600000      0.728722      0.0\n",
      "-------------\n",
      "Outliers\n",
      "        bedrooms          sqft  Scaled_bedrooms  Scaled_sqft  labels\n",
      "count  44.000000     44.000000        44.000000    44.000000    44.0\n",
      "mean    6.954545   7556.568182         0.595455     0.611507    -1.0\n",
      "std     1.842073   2692.368184         0.184207     0.233348     0.0\n",
      "min     3.000000   2558.000000         0.200000     0.178280    -1.0\n",
      "25%     6.000000   5858.750000         0.500000     0.464357    -1.0\n",
      "50%     7.000000   8139.500000         0.600000     0.662030    -1.0\n",
      "75%     8.000000   9743.000000         0.700000     0.801005    -1.0\n",
      "max    11.000000  12039.000000         1.000000     1.000000    -1.0\n"
     ]
    }
   ],
   "source": [
    "# Let's look at the descriptive stats for the entire population, the inliers, then the outliers/anomalies\n",
    "print(\"Population\")\n",
    "print(df.describe())\n",
    "print(\"-------------\")\n",
    "print(\"Inliers\")\n",
    "print(df[df.labels==0].describe())\n",
    "print(\"-------------\")\n",
    "print(\"Outliers\")\n",
    "print(df[df.labels==-1].describe())"
   ]
  },
  {
   "cell_type": "code",
   "execution_count": 117,
   "metadata": {},
   "outputs": [
    {
     "data": {
      "image/png": "[encoded data removed]",
      "text/plain": [
       "<Figure size 432x288 with 1 Axes>"
      ]
     },
     "metadata": {
      "needs_background": "light"
     },
     "output_type": "display_data"
    }
   ],
   "source": [
    "#scatterplots\n",
    "sns.scatterplot(df.bedrooms, df.sqft, hue=df.labels)\n",
    "plt.show()\n"
   ]
  },
  {
   "cell_type": "code",
   "execution_count": 119,
   "metadata": {},
   "outputs": [
    {
     "data": {
      "text/plain": [
       "Text(0.5, 0, 'sqft')"
      ]
     },
     "execution_count": 119,
     "metadata": {},
     "output_type": "execute_result"
    },
    {
     "data": {
      "image/png": "[encoded data removed]",
      "text/plain": [
       "<Figure size 576x576 with 1 Axes>"
      ]
     },
     "metadata": {
      "needs_background": "light"
     },
     "output_type": "display_data"
    }
   ],
   "source": [
    "from mpl_toolkits.mplot3d import Axes3D\n",
    "\n",
    "fig = plt.figure(1, figsize=(8, 8))\n",
    "ax = Axes3D(fig, rect=[0, 0, .95, 1], elev=48, azim=134)\n",
    "\n",
    "# plot the points\n",
    "ax.scatter(df.bedrooms, df.sqft,\n",
    "           c=df.labels, edgecolor='k')\n",
    "\n",
    "ax.w_xaxis.set_ticklabels([])\n",
    "ax.w_yaxis.set_ticklabels([])\n",
    "ax.w_zaxis.set_ticklabels([])\n",
    "\n",
    "ax.set_xlabel('Bedrooms')\n",
    "ax.set_ylabel('sqft')\n"
   ]
  },
  {
   "cell_type": "code",
   "execution_count": 120,
   "metadata": {},
   "outputs": [],
   "source": [
    "import wrangle as w"
   ]
  },
  {
   "cell_type": "code",
   "execution_count": 121,
   "metadata": {},
   "outputs": [],
   "source": [
    "df = w.prepare_logs()"
   ]
  },
  {
   "cell_type": "code",
   "execution_count": 122,
   "metadata": {},
   "outputs": [
    {
     "data": {
      "text/html": [
       "<div>\n",
       "<style scoped>\n",
       "    .dataframe tbody tr th:only-of-type {\n",
       "        vertical-align: middle;\n",
       "    }\n",
       "\n",
       "    .dataframe tbody tr th {\n",
       "        vertical-align: top;\n",
       "    }\n",
       "\n",
       "    .dataframe thead th {\n",
       "        text-align: right;\n",
       "    }\n",
       "</style>\n",
       "<table border=\"1\" class=\"dataframe\">\n",
       "  <thead>\n",
       "    <tr style=\"text-align: right;\">\n",
       "      <th></th>\n",
       "      <th>name</th>\n",
       "      <th>program_id</th>\n",
       "      <th>cohort_id</th>\n",
       "      <th>user_id</th>\n",
       "      <th>path</th>\n",
       "      <th>ip</th>\n",
       "      <th>start_date</th>\n",
       "      <th>end_date</th>\n",
       "      <th>day_of_week</th>\n",
       "      <th>month</th>\n",
       "    </tr>\n",
       "  </thead>\n",
       "  <tbody>\n",
       "    <tr>\n",
       "      <th>2018-01-26 09:55:03</th>\n",
       "      <td>Hampton</td>\n",
       "      <td>full stack php</td>\n",
       "      <td>8.0</td>\n",
       "      <td>1</td>\n",
       "      <td>/</td>\n",
       "      <td>97.105.19.61</td>\n",
       "      <td>2015-09-22</td>\n",
       "      <td>2016-02-06</td>\n",
       "      <td>Friday</td>\n",
       "      <td>January</td>\n",
       "    </tr>\n",
       "    <tr>\n",
       "      <th>2018-01-26 09:56:02</th>\n",
       "      <td>Hampton</td>\n",
       "      <td>full stack php</td>\n",
       "      <td>8.0</td>\n",
       "      <td>1</td>\n",
       "      <td>java-ii</td>\n",
       "      <td>97.105.19.61</td>\n",
       "      <td>2015-09-22</td>\n",
       "      <td>2016-02-06</td>\n",
       "      <td>Friday</td>\n",
       "      <td>January</td>\n",
       "    </tr>\n",
       "    <tr>\n",
       "      <th>2018-01-26 09:56:05</th>\n",
       "      <td>Hampton</td>\n",
       "      <td>full stack php</td>\n",
       "      <td>8.0</td>\n",
       "      <td>1</td>\n",
       "      <td>java-ii/object-oriented-programming</td>\n",
       "      <td>97.105.19.61</td>\n",
       "      <td>2015-09-22</td>\n",
       "      <td>2016-02-06</td>\n",
       "      <td>Friday</td>\n",
       "      <td>January</td>\n",
       "    </tr>\n",
       "    <tr>\n",
       "      <th>2018-01-26 09:56:06</th>\n",
       "      <td>Hampton</td>\n",
       "      <td>full stack php</td>\n",
       "      <td>8.0</td>\n",
       "      <td>1</td>\n",
       "      <td>slides/object_oriented_programming</td>\n",
       "      <td>97.105.19.61</td>\n",
       "      <td>2015-09-22</td>\n",
       "      <td>2016-02-06</td>\n",
       "      <td>Friday</td>\n",
       "      <td>January</td>\n",
       "    </tr>\n",
       "    <tr>\n",
       "      <th>2018-01-26 09:56:24</th>\n",
       "      <td>Teddy</td>\n",
       "      <td>full stack java</td>\n",
       "      <td>22.0</td>\n",
       "      <td>2</td>\n",
       "      <td>javascript-i/conditionals</td>\n",
       "      <td>97.105.19.61</td>\n",
       "      <td>2018-01-08</td>\n",
       "      <td>2018-05-17</td>\n",
       "      <td>Friday</td>\n",
       "      <td>January</td>\n",
       "    </tr>\n",
       "  </tbody>\n",
       "</table>\n",
       "</div>"
      ],
      "text/plain": [
       "                        name       program_id  cohort_id  user_id  \\\n",
       "2018-01-26 09:55:03  Hampton   full stack php        8.0        1   \n",
       "2018-01-26 09:56:02  Hampton   full stack php        8.0        1   \n",
       "2018-01-26 09:56:05  Hampton   full stack php        8.0        1   \n",
       "2018-01-26 09:56:06  Hampton   full stack php        8.0        1   \n",
       "2018-01-26 09:56:24    Teddy  full stack java       22.0        2   \n",
       "\n",
       "                                                    path            ip  \\\n",
       "2018-01-26 09:55:03                                    /  97.105.19.61   \n",
       "2018-01-26 09:56:02                              java-ii  97.105.19.61   \n",
       "2018-01-26 09:56:05  java-ii/object-oriented-programming  97.105.19.61   \n",
       "2018-01-26 09:56:06   slides/object_oriented_programming  97.105.19.61   \n",
       "2018-01-26 09:56:24            javascript-i/conditionals  97.105.19.61   \n",
       "\n",
       "                     start_date    end_date day_of_week    month  \n",
       "2018-01-26 09:55:03  2015-09-22  2016-02-06      Friday  January  \n",
       "2018-01-26 09:56:02  2015-09-22  2016-02-06      Friday  January  \n",
       "2018-01-26 09:56:05  2015-09-22  2016-02-06      Friday  January  \n",
       "2018-01-26 09:56:06  2015-09-22  2016-02-06      Friday  January  \n",
       "2018-01-26 09:56:24  2018-01-08  2018-05-17      Friday  January  "
      ]
     },
     "execution_count": 122,
     "metadata": {},
     "output_type": "execute_result"
    }
   ],
   "source": [
    "df.head()"
   ]
  },
  {
   "cell_type": "code",
   "execution_count": 123,
   "metadata": {},
   "outputs": [
    {
     "data": {
      "text/html": [
       "<div>\n",
       "<style scoped>\n",
       "    .dataframe tbody tr th:only-of-type {\n",
       "        vertical-align: middle;\n",
       "    }\n",
       "\n",
       "    .dataframe tbody tr th {\n",
       "        vertical-align: top;\n",
       "    }\n",
       "\n",
       "    .dataframe thead th {\n",
       "        text-align: right;\n",
       "    }\n",
       "</style>\n",
       "<table border=\"1\" class=\"dataframe\">\n",
       "  <thead>\n",
       "    <tr style=\"text-align: right;\">\n",
       "      <th></th>\n",
       "      <th>program_id</th>\n",
       "      <th>cohort_id</th>\n",
       "    </tr>\n",
       "  </thead>\n",
       "  <tbody>\n",
       "    <tr>\n",
       "      <th>2018-01-26 09:55:03</th>\n",
       "      <td>full stack php</td>\n",
       "      <td>8.0</td>\n",
       "    </tr>\n",
       "    <tr>\n",
       "      <th>2018-01-26 09:56:02</th>\n",
       "      <td>full stack php</td>\n",
       "      <td>8.0</td>\n",
       "    </tr>\n",
       "    <tr>\n",
       "      <th>2018-01-26 09:56:05</th>\n",
       "      <td>full stack php</td>\n",
       "      <td>8.0</td>\n",
       "    </tr>\n",
       "    <tr>\n",
       "      <th>2018-01-26 09:56:06</th>\n",
       "      <td>full stack php</td>\n",
       "      <td>8.0</td>\n",
       "    </tr>\n",
       "    <tr>\n",
       "      <th>2018-01-26 09:56:24</th>\n",
       "      <td>full stack java</td>\n",
       "      <td>22.0</td>\n",
       "    </tr>\n",
       "  </tbody>\n",
       "</table>\n",
       "</div>"
      ],
      "text/plain": [
       "                          program_id  cohort_id\n",
       "2018-01-26 09:55:03   full stack php        8.0\n",
       "2018-01-26 09:56:02   full stack php        8.0\n",
       "2018-01-26 09:56:05   full stack php        8.0\n",
       "2018-01-26 09:56:06   full stack php        8.0\n",
       "2018-01-26 09:56:24  full stack java       22.0"
      ]
     },
     "execution_count": 123,
     "metadata": {},
     "output_type": "execute_result"
    }
   ],
   "source": [
    "# Cluster on all or a selected subset of features\n",
    "program_cohort = df[['program_id', 'cohort_id']]\n",
    "program_cohort.head()"
   ]
  },
  {
   "cell_type": "code",
   "execution_count": null,
   "metadata": {},
   "outputs": [],
   "source": []
  },
  {
   "cell_type": "code",
   "execution_count": null,
   "metadata": {},
   "outputs": [],
   "source": []
  }
 ],
 "metadata": {
  "kernelspec": {
   "display_name": "Python 3",
   "language": "python",
   "name": "python3"
  },
  "language_info": {
   "codemirror_mode": {
    "name": "ipython",
    "version": 3
   },
   "file_extension": ".py",
   "mimetype": "text/x-python",
   "name": "python",
   "nbconvert_exporter": "python",
   "pygments_lexer": "ipython3",
   "version": "3.8.5"
  }
 },
 "nbformat": 4,
 "nbformat_minor": 4
}
