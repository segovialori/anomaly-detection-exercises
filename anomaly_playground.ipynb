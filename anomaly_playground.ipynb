{
 "cells": [
  {
   "cell_type": "markdown",
   "metadata": {},
   "source": [
    "# Anomaly Detection"
   ]
  },
  {
   "cell_type": "markdown",
   "metadata": {},
   "source": [
    "## Imports"
   ]
  },
  {
   "cell_type": "code",
   "execution_count": 1,
   "metadata": {},
   "outputs": [],
   "source": [
    "import numpy as np # linear algebra\n",
    "import pandas as pd # data processing, CSV file I/O (e.g. pd.read_csv)\n"
   ]
  },
  {
   "cell_type": "markdown",
   "metadata": {},
   "source": [
    "### Acquire"
   ]
  },
  {
   "cell_type": "code",
   "execution_count": 14,
   "metadata": {},
   "outputs": [],
   "source": [
    "df = pd.read_csv('anonymized-curriculum-access.txt.gz', compression='gzip', \n",
    "                                 header=None, sep=' ')"
   ]
  },
  {
   "cell_type": "code",
   "execution_count": 15,
   "metadata": {},
   "outputs": [
    {
     "data": {
      "text/html": [
       "<div>\n",
       "<style scoped>\n",
       "    .dataframe tbody tr th:only-of-type {\n",
       "        vertical-align: middle;\n",
       "    }\n",
       "\n",
       "    .dataframe tbody tr th {\n",
       "        vertical-align: top;\n",
       "    }\n",
       "\n",
       "    .dataframe thead th {\n",
       "        text-align: right;\n",
       "    }\n",
       "</style>\n",
       "<table border=\"1\" class=\"dataframe\">\n",
       "  <thead>\n",
       "    <tr style=\"text-align: right;\">\n",
       "      <th></th>\n",
       "      <th>0</th>\n",
       "      <th>1</th>\n",
       "      <th>2</th>\n",
       "      <th>3</th>\n",
       "      <th>4</th>\n",
       "      <th>5</th>\n",
       "    </tr>\n",
       "  </thead>\n",
       "  <tbody>\n",
       "    <tr>\n",
       "      <th>0</th>\n",
       "      <td>2018-01-26</td>\n",
       "      <td>09:55:03</td>\n",
       "      <td>/</td>\n",
       "      <td>1</td>\n",
       "      <td>8.0</td>\n",
       "      <td>97.105.19.61</td>\n",
       "    </tr>\n",
       "    <tr>\n",
       "      <th>1</th>\n",
       "      <td>2018-01-26</td>\n",
       "      <td>09:56:02</td>\n",
       "      <td>java-ii</td>\n",
       "      <td>1</td>\n",
       "      <td>8.0</td>\n",
       "      <td>97.105.19.61</td>\n",
       "    </tr>\n",
       "    <tr>\n",
       "      <th>2</th>\n",
       "      <td>2018-01-26</td>\n",
       "      <td>09:56:05</td>\n",
       "      <td>java-ii/object-oriented-programming</td>\n",
       "      <td>1</td>\n",
       "      <td>8.0</td>\n",
       "      <td>97.105.19.61</td>\n",
       "    </tr>\n",
       "    <tr>\n",
       "      <th>3</th>\n",
       "      <td>2018-01-26</td>\n",
       "      <td>09:56:06</td>\n",
       "      <td>slides/object_oriented_programming</td>\n",
       "      <td>1</td>\n",
       "      <td>8.0</td>\n",
       "      <td>97.105.19.61</td>\n",
       "    </tr>\n",
       "    <tr>\n",
       "      <th>4</th>\n",
       "      <td>2018-01-26</td>\n",
       "      <td>09:56:24</td>\n",
       "      <td>javascript-i/conditionals</td>\n",
       "      <td>2</td>\n",
       "      <td>22.0</td>\n",
       "      <td>97.105.19.61</td>\n",
       "    </tr>\n",
       "  </tbody>\n",
       "</table>\n",
       "</div>"
      ],
      "text/plain": [
       "            0         1                                    2  3     4  \\\n",
       "0  2018-01-26  09:55:03                                    /  1   8.0   \n",
       "1  2018-01-26  09:56:02                              java-ii  1   8.0   \n",
       "2  2018-01-26  09:56:05  java-ii/object-oriented-programming  1   8.0   \n",
       "3  2018-01-26  09:56:06   slides/object_oriented_programming  1   8.0   \n",
       "4  2018-01-26  09:56:24            javascript-i/conditionals  2  22.0   \n",
       "\n",
       "              5  \n",
       "0  97.105.19.61  \n",
       "1  97.105.19.61  \n",
       "2  97.105.19.61  \n",
       "3  97.105.19.61  \n",
       "4  97.105.19.61  "
      ]
     },
     "execution_count": 15,
     "metadata": {},
     "output_type": "execute_result"
    }
   ],
   "source": [
    "df.head()"
   ]
  },
  {
   "cell_type": "code",
   "execution_count": 9,
   "metadata": {},
   "outputs": [
    {
     "name": "stdout",
     "output_type": "stream",
     "text": [
      "<class 'pandas.core.frame.DataFrame'>\n",
      "RangeIndex: 900223 entries, 0 to 900222\n",
      "Data columns (total 6 columns):\n",
      " #   Column  Non-Null Count   Dtype  \n",
      "---  ------  --------------   -----  \n",
      " 0   0       900223 non-null  object \n",
      " 1   1       900223 non-null  object \n",
      " 2   2       900222 non-null  object \n",
      " 3   3       900223 non-null  int64  \n",
      " 4   4       847330 non-null  float64\n",
      " 5   5       900223 non-null  object \n",
      "dtypes: float64(1), int64(1), object(4)\n",
      "memory usage: 41.2+ MB\n"
     ]
    }
   ],
   "source": [
    "df.info()"
   ]
  },
  {
   "cell_type": "code",
   "execution_count": 21,
   "metadata": {},
   "outputs": [
    {
     "data": {
      "text/plain": [
       "28.0     84031\n",
       "33.0     40730\n",
       "29.0     38096\n",
       "62.0     37109\n",
       "53.0     36902\n",
       "24.0     35636\n",
       "57.0     33844\n",
       "56.0     33568\n",
       "51.0     32888\n",
       "59.0     32015\n",
       "22.0     30926\n",
       "58.0     29855\n",
       "32.0     29356\n",
       "23.0     28534\n",
       "52.0     28033\n",
       "26.0     27749\n",
       "34.0     26538\n",
       "25.0     25586\n",
       "31.0     25359\n",
       "132.0    23691\n",
       "55.0     21582\n",
       "27.0     20743\n",
       "61.0     17713\n",
       "134.0    16623\n",
       "135.0    16397\n",
       "133.0    14715\n",
       "14.0      9587\n",
       "1.0       8890\n",
       "137.0     8562\n",
       "21.0      7444\n",
       "138.0     7276\n",
       "17.0      4954\n",
       "13.0      2845\n",
       "18.0      2158\n",
       "8.0       1712\n",
       "139.0     1672\n",
       "19.0      1237\n",
       "16.0       755\n",
       "15.0       691\n",
       "7.0        598\n",
       "12.0       302\n",
       "11.0       253\n",
       "2.0         93\n",
       "6.0         72\n",
       "9.0          5\n",
       "4.0          4\n",
       "5.0          1\n",
       "Name: 4, dtype: int64"
      ]
     },
     "execution_count": 21,
     "metadata": {},
     "output_type": "execute_result"
    }
   ],
   "source": [
    "df[4].value_counts()"
   ]
  },
  {
   "cell_type": "code",
   "execution_count": 49,
   "metadata": {},
   "outputs": [],
   "source": [
    "df.columns = ['date', 'time', 'page_visited', 'user_id', 'cohort_id', 'ip']"
   ]
  },
  {
   "cell_type": "code",
   "execution_count": 61,
   "metadata": {},
   "outputs": [],
   "source": [
    "df.index = pd.to_datetime(df.date + \" \" + df.time)"
   ]
  },
  {
   "cell_type": "code",
   "execution_count": 62,
   "metadata": {},
   "outputs": [
    {
     "data": {
      "text/html": [
       "<div>\n",
       "<style scoped>\n",
       "    .dataframe tbody tr th:only-of-type {\n",
       "        vertical-align: middle;\n",
       "    }\n",
       "\n",
       "    .dataframe tbody tr th {\n",
       "        vertical-align: top;\n",
       "    }\n",
       "\n",
       "    .dataframe thead th {\n",
       "        text-align: right;\n",
       "    }\n",
       "</style>\n",
       "<table border=\"1\" class=\"dataframe\">\n",
       "  <thead>\n",
       "    <tr style=\"text-align: right;\">\n",
       "      <th></th>\n",
       "      <th>date</th>\n",
       "      <th>time</th>\n",
       "      <th>page_visited</th>\n",
       "      <th>user_id</th>\n",
       "      <th>cohort_id</th>\n",
       "      <th>ip</th>\n",
       "    </tr>\n",
       "  </thead>\n",
       "  <tbody>\n",
       "    <tr>\n",
       "      <th>2018-01-26 09:55:03</th>\n",
       "      <td>2018-01-26</td>\n",
       "      <td>09:55:03</td>\n",
       "      <td>/</td>\n",
       "      <td>1</td>\n",
       "      <td>8.0</td>\n",
       "      <td>97.105.19.61</td>\n",
       "    </tr>\n",
       "    <tr>\n",
       "      <th>2018-01-26 09:56:02</th>\n",
       "      <td>2018-01-26</td>\n",
       "      <td>09:56:02</td>\n",
       "      <td>java-ii</td>\n",
       "      <td>1</td>\n",
       "      <td>8.0</td>\n",
       "      <td>97.105.19.61</td>\n",
       "    </tr>\n",
       "    <tr>\n",
       "      <th>2018-01-26 09:56:05</th>\n",
       "      <td>2018-01-26</td>\n",
       "      <td>09:56:05</td>\n",
       "      <td>java-ii/object-oriented-programming</td>\n",
       "      <td>1</td>\n",
       "      <td>8.0</td>\n",
       "      <td>97.105.19.61</td>\n",
       "    </tr>\n",
       "    <tr>\n",
       "      <th>2018-01-26 09:56:06</th>\n",
       "      <td>2018-01-26</td>\n",
       "      <td>09:56:06</td>\n",
       "      <td>slides/object_oriented_programming</td>\n",
       "      <td>1</td>\n",
       "      <td>8.0</td>\n",
       "      <td>97.105.19.61</td>\n",
       "    </tr>\n",
       "    <tr>\n",
       "      <th>2018-01-26 09:56:24</th>\n",
       "      <td>2018-01-26</td>\n",
       "      <td>09:56:24</td>\n",
       "      <td>javascript-i/conditionals</td>\n",
       "      <td>2</td>\n",
       "      <td>22.0</td>\n",
       "      <td>97.105.19.61</td>\n",
       "    </tr>\n",
       "    <tr>\n",
       "      <th>2018-01-26 09:56:41</th>\n",
       "      <td>2018-01-26</td>\n",
       "      <td>09:56:41</td>\n",
       "      <td>javascript-i/loops</td>\n",
       "      <td>2</td>\n",
       "      <td>22.0</td>\n",
       "      <td>97.105.19.61</td>\n",
       "    </tr>\n",
       "    <tr>\n",
       "      <th>2018-01-26 09:56:46</th>\n",
       "      <td>2018-01-26</td>\n",
       "      <td>09:56:46</td>\n",
       "      <td>javascript-i/conditionals</td>\n",
       "      <td>3</td>\n",
       "      <td>22.0</td>\n",
       "      <td>97.105.19.61</td>\n",
       "    </tr>\n",
       "    <tr>\n",
       "      <th>2018-01-26 09:56:48</th>\n",
       "      <td>2018-01-26</td>\n",
       "      <td>09:56:48</td>\n",
       "      <td>javascript-i/functions</td>\n",
       "      <td>3</td>\n",
       "      <td>22.0</td>\n",
       "      <td>97.105.19.61</td>\n",
       "    </tr>\n",
       "    <tr>\n",
       "      <th>2018-01-26 09:56:59</th>\n",
       "      <td>2018-01-26</td>\n",
       "      <td>09:56:59</td>\n",
       "      <td>javascript-i/loops</td>\n",
       "      <td>2</td>\n",
       "      <td>22.0</td>\n",
       "      <td>97.105.19.61</td>\n",
       "    </tr>\n",
       "    <tr>\n",
       "      <th>2018-01-26 09:58:26</th>\n",
       "      <td>2018-01-26</td>\n",
       "      <td>09:58:26</td>\n",
       "      <td>javascript-i/functions</td>\n",
       "      <td>4</td>\n",
       "      <td>22.0</td>\n",
       "      <td>97.105.19.61</td>\n",
       "    </tr>\n",
       "    <tr>\n",
       "      <th>2018-01-26 09:59:22</th>\n",
       "      <td>2018-01-26</td>\n",
       "      <td>09:59:22</td>\n",
       "      <td>mkdocs/search_index.json</td>\n",
       "      <td>5</td>\n",
       "      <td>22.0</td>\n",
       "      <td>97.105.19.61</td>\n",
       "    </tr>\n",
       "  </tbody>\n",
       "</table>\n",
       "</div>"
      ],
      "text/plain": [
       "                           date      time  \\\n",
       "2018-01-26 09:55:03  2018-01-26  09:55:03   \n",
       "2018-01-26 09:56:02  2018-01-26  09:56:02   \n",
       "2018-01-26 09:56:05  2018-01-26  09:56:05   \n",
       "2018-01-26 09:56:06  2018-01-26  09:56:06   \n",
       "2018-01-26 09:56:24  2018-01-26  09:56:24   \n",
       "2018-01-26 09:56:41  2018-01-26  09:56:41   \n",
       "2018-01-26 09:56:46  2018-01-26  09:56:46   \n",
       "2018-01-26 09:56:48  2018-01-26  09:56:48   \n",
       "2018-01-26 09:56:59  2018-01-26  09:56:59   \n",
       "2018-01-26 09:58:26  2018-01-26  09:58:26   \n",
       "2018-01-26 09:59:22  2018-01-26  09:59:22   \n",
       "\n",
       "                                            page_visited  user_id  cohort_id  \\\n",
       "2018-01-26 09:55:03                                    /        1        8.0   \n",
       "2018-01-26 09:56:02                              java-ii        1        8.0   \n",
       "2018-01-26 09:56:05  java-ii/object-oriented-programming        1        8.0   \n",
       "2018-01-26 09:56:06   slides/object_oriented_programming        1        8.0   \n",
       "2018-01-26 09:56:24            javascript-i/conditionals        2       22.0   \n",
       "2018-01-26 09:56:41                   javascript-i/loops        2       22.0   \n",
       "2018-01-26 09:56:46            javascript-i/conditionals        3       22.0   \n",
       "2018-01-26 09:56:48               javascript-i/functions        3       22.0   \n",
       "2018-01-26 09:56:59                   javascript-i/loops        2       22.0   \n",
       "2018-01-26 09:58:26               javascript-i/functions        4       22.0   \n",
       "2018-01-26 09:59:22             mkdocs/search_index.json        5       22.0   \n",
       "\n",
       "                               ip  \n",
       "2018-01-26 09:55:03  97.105.19.61  \n",
       "2018-01-26 09:56:02  97.105.19.61  \n",
       "2018-01-26 09:56:05  97.105.19.61  \n",
       "2018-01-26 09:56:06  97.105.19.61  \n",
       "2018-01-26 09:56:24  97.105.19.61  \n",
       "2018-01-26 09:56:41  97.105.19.61  \n",
       "2018-01-26 09:56:46  97.105.19.61  \n",
       "2018-01-26 09:56:48  97.105.19.61  \n",
       "2018-01-26 09:56:59  97.105.19.61  \n",
       "2018-01-26 09:58:26  97.105.19.61  \n",
       "2018-01-26 09:59:22  97.105.19.61  "
      ]
     },
     "execution_count": 62,
     "metadata": {},
     "output_type": "execute_result"
    }
   ],
   "source": [
    "df.head(11)"
   ]
  },
  {
   "cell_type": "code",
   "execution_count": 63,
   "metadata": {},
   "outputs": [
    {
     "data": {
      "text/plain": [
       "11     17913\n",
       "64     16347\n",
       "53     12329\n",
       "314     7783\n",
       "1       7404\n",
       "       ...  \n",
       "952        1\n",
       "212        1\n",
       "940        1\n",
       "649        1\n",
       "879        1\n",
       "Name: user_id, Length: 981, dtype: int64"
      ]
     },
     "execution_count": 63,
     "metadata": {},
     "output_type": "execute_result"
    }
   ],
   "source": [
    "df.user_id.value_counts()"
   ]
  },
  {
   "cell_type": "code",
   "execution_count": 64,
   "metadata": {},
   "outputs": [
    {
     "data": {
      "text/plain": [
       "page_visited                      cohort_id  user_id\n",
       "%20https://github.com/RaulCPena   55.0       580        1\n",
       "'                                 28.0       64         1\n",
       ",%20https://github.com/RaulCPena  55.0       580        1\n",
       ".git                              24.0       203        1\n",
       ".gitignore                        24.0       203        1\n",
       "                                                       ..\n",
       "working-with-time-series-data     59.0       680        2\n",
       "                                             692        2\n",
       "                                             688        1\n",
       "wp-admin                          22.0       180        1\n",
       "wp-login                          22.0       180        1\n",
       "Name: user_id, Length: 109918, dtype: int64"
      ]
     },
     "execution_count": 64,
     "metadata": {},
     "output_type": "execute_result"
    }
   ],
   "source": [
    "df.groupby(['page_visited', 'cohort_id']).user_id.value_counts()"
   ]
  },
  {
   "cell_type": "code",
   "execution_count": 67,
   "metadata": {},
   "outputs": [],
   "source": [
    "df.to_csv('anomaly.csv')"
   ]
  },
  {
   "cell_type": "code",
   "execution_count": 113,
   "metadata": {},
   "outputs": [],
   "source": [
    "# dont push to git \n",
    "lori = df[(df.ip == 'secret')]"
   ]
  },
  {
   "cell_type": "code",
   "execution_count": 60,
   "metadata": {},
   "outputs": [
    {
     "data": {
      "text/plain": [
       "user_id\n",
       "1      7404\n",
       "2      1541\n",
       "3      1562\n",
       "4       692\n",
       "5      1701\n",
       "       ... \n",
       "977      86\n",
       "978      55\n",
       "979     127\n",
       "980       3\n",
       "981      42\n",
       "Name: ip, Length: 981, dtype: int64"
      ]
     },
     "execution_count": 60,
     "metadata": {},
     "output_type": "execute_result"
    }
   ],
   "source": [
    "df.groupby('user_id')['ip'].size()"
   ]
  },
  {
   "cell_type": "code",
   "execution_count": 70,
   "metadata": {},
   "outputs": [],
   "source": [
    "df['cohort_id'] = df.cohort_id.fillna(0)"
   ]
  },
  {
   "cell_type": "code",
   "execution_count": 78,
   "metadata": {},
   "outputs": [],
   "source": [
    "no_cohort = df[df.cohort_id == 0]"
   ]
  },
  {
   "cell_type": "code",
   "execution_count": 110,
   "metadata": {},
   "outputs": [
    {
     "data": {
      "text/html": [
       "<div>\n",
       "<style scoped>\n",
       "    .dataframe tbody tr th:only-of-type {\n",
       "        vertical-align: middle;\n",
       "    }\n",
       "\n",
       "    .dataframe tbody tr th {\n",
       "        vertical-align: top;\n",
       "    }\n",
       "\n",
       "    .dataframe thead th {\n",
       "        text-align: right;\n",
       "    }\n",
       "</style>\n",
       "<table border=\"1\" class=\"dataframe\">\n",
       "  <thead>\n",
       "    <tr style=\"text-align: right;\">\n",
       "      <th></th>\n",
       "      <th>date</th>\n",
       "      <th>time</th>\n",
       "      <th>page_visited</th>\n",
       "      <th>user_id</th>\n",
       "      <th>cohort_id</th>\n",
       "      <th>ip</th>\n",
       "    </tr>\n",
       "  </thead>\n",
       "  <tbody>\n",
       "    <tr>\n",
       "      <th>2018-01-26 16:46:16</th>\n",
       "      <td>2018-01-26</td>\n",
       "      <td>16:46:16</td>\n",
       "      <td>/</td>\n",
       "      <td>48</td>\n",
       "      <td>0.0</td>\n",
       "      <td>97.105.19.61</td>\n",
       "    </tr>\n",
       "    <tr>\n",
       "      <th>2018-01-26 16:46:24</th>\n",
       "      <td>2018-01-26</td>\n",
       "      <td>16:46:24</td>\n",
       "      <td>spring/extra-features/form-validation</td>\n",
       "      <td>48</td>\n",
       "      <td>0.0</td>\n",
       "      <td>97.105.19.61</td>\n",
       "    </tr>\n",
       "    <tr>\n",
       "      <th>2018-01-26 17:54:24</th>\n",
       "      <td>2018-01-26</td>\n",
       "      <td>17:54:24</td>\n",
       "      <td>/</td>\n",
       "      <td>48</td>\n",
       "      <td>0.0</td>\n",
       "      <td>97.105.19.61</td>\n",
       "    </tr>\n",
       "    <tr>\n",
       "      <th>2018-01-26 18:32:03</th>\n",
       "      <td>2018-01-26</td>\n",
       "      <td>18:32:03</td>\n",
       "      <td>/</td>\n",
       "      <td>48</td>\n",
       "      <td>0.0</td>\n",
       "      <td>97.105.19.61</td>\n",
       "    </tr>\n",
       "    <tr>\n",
       "      <th>2018-01-26 18:32:17</th>\n",
       "      <td>2018-01-26</td>\n",
       "      <td>18:32:17</td>\n",
       "      <td>mysql/relationships/joins</td>\n",
       "      <td>48</td>\n",
       "      <td>0.0</td>\n",
       "      <td>97.105.19.61</td>\n",
       "    </tr>\n",
       "    <tr>\n",
       "      <th>2018-01-26 18:32:33</th>\n",
       "      <td>2018-01-26</td>\n",
       "      <td>18:32:33</td>\n",
       "      <td>mysql/tables</td>\n",
       "      <td>48</td>\n",
       "      <td>0.0</td>\n",
       "      <td>97.105.19.61</td>\n",
       "    </tr>\n",
       "    <tr>\n",
       "      <th>2018-01-26 18:32:37</th>\n",
       "      <td>2018-01-26</td>\n",
       "      <td>18:32:37</td>\n",
       "      <td>mysql/databases</td>\n",
       "      <td>48</td>\n",
       "      <td>0.0</td>\n",
       "      <td>97.105.19.61</td>\n",
       "    </tr>\n",
       "    <tr>\n",
       "      <th>2018-01-26 18:32:43</th>\n",
       "      <td>2018-01-26</td>\n",
       "      <td>18:32:43</td>\n",
       "      <td>mysql/relationships</td>\n",
       "      <td>48</td>\n",
       "      <td>0.0</td>\n",
       "      <td>97.105.19.61</td>\n",
       "    </tr>\n",
       "    <tr>\n",
       "      <th>2018-01-26 18:32:47</th>\n",
       "      <td>2018-01-26</td>\n",
       "      <td>18:32:47</td>\n",
       "      <td>mysql/relationships/joins</td>\n",
       "      <td>48</td>\n",
       "      <td>0.0</td>\n",
       "      <td>97.105.19.61</td>\n",
       "    </tr>\n",
       "    <tr>\n",
       "      <th>2018-01-26 18:33:07</th>\n",
       "      <td>2018-01-26</td>\n",
       "      <td>18:33:07</td>\n",
       "      <td>mysql/relationships</td>\n",
       "      <td>48</td>\n",
       "      <td>0.0</td>\n",
       "      <td>97.105.19.61</td>\n",
       "    </tr>\n",
       "    <tr>\n",
       "      <th>2018-01-26 18:33:13</th>\n",
       "      <td>2018-01-26</td>\n",
       "      <td>18:33:13</td>\n",
       "      <td>mysql/database-design</td>\n",
       "      <td>48</td>\n",
       "      <td>0.0</td>\n",
       "      <td>97.105.19.61</td>\n",
       "    </tr>\n",
       "    <tr>\n",
       "      <th>2018-01-26 18:34:02</th>\n",
       "      <td>2018-01-26</td>\n",
       "      <td>18:34:02</td>\n",
       "      <td>mysql/relationships/indexes</td>\n",
       "      <td>48</td>\n",
       "      <td>0.0</td>\n",
       "      <td>97.105.19.61</td>\n",
       "    </tr>\n",
       "    <tr>\n",
       "      <th>2018-01-26 18:34:33</th>\n",
       "      <td>2018-01-26</td>\n",
       "      <td>18:34:33</td>\n",
       "      <td>spring/fundamentals/relationships</td>\n",
       "      <td>48</td>\n",
       "      <td>0.0</td>\n",
       "      <td>97.105.19.61</td>\n",
       "    </tr>\n",
       "    <tr>\n",
       "      <th>2018-01-26 18:38:21</th>\n",
       "      <td>2018-01-26</td>\n",
       "      <td>18:38:21</td>\n",
       "      <td>/</td>\n",
       "      <td>48</td>\n",
       "      <td>0.0</td>\n",
       "      <td>97.105.19.61</td>\n",
       "    </tr>\n",
       "    <tr>\n",
       "      <th>2018-01-26 18:39:30</th>\n",
       "      <td>2018-01-26</td>\n",
       "      <td>18:39:30</td>\n",
       "      <td>spring/extra-features/form-validation</td>\n",
       "      <td>48</td>\n",
       "      <td>0.0</td>\n",
       "      <td>97.105.19.61</td>\n",
       "    </tr>\n",
       "    <tr>\n",
       "      <th>2018-01-26 18:39:37</th>\n",
       "      <td>2018-01-26</td>\n",
       "      <td>18:39:37</td>\n",
       "      <td>spring/extra-features/error-pages</td>\n",
       "      <td>48</td>\n",
       "      <td>0.0</td>\n",
       "      <td>97.105.19.61</td>\n",
       "    </tr>\n",
       "    <tr>\n",
       "      <th>2018-01-26 18:39:40</th>\n",
       "      <td>2018-01-26</td>\n",
       "      <td>18:39:40</td>\n",
       "      <td>spring/extra-features/json-response</td>\n",
       "      <td>48</td>\n",
       "      <td>0.0</td>\n",
       "      <td>97.105.19.61</td>\n",
       "    </tr>\n",
       "    <tr>\n",
       "      <th>2018-01-26 18:39:45</th>\n",
       "      <td>2018-01-26</td>\n",
       "      <td>18:39:45</td>\n",
       "      <td>spring/extra-features/file-upload</td>\n",
       "      <td>48</td>\n",
       "      <td>0.0</td>\n",
       "      <td>97.105.19.61</td>\n",
       "    </tr>\n",
       "    <tr>\n",
       "      <th>2018-01-26 18:39:49</th>\n",
       "      <td>2018-01-26</td>\n",
       "      <td>18:39:49</td>\n",
       "      <td>spring/extra-features</td>\n",
       "      <td>48</td>\n",
       "      <td>0.0</td>\n",
       "      <td>97.105.19.61</td>\n",
       "    </tr>\n",
       "    <tr>\n",
       "      <th>2018-01-26 18:39:55</th>\n",
       "      <td>2018-01-26</td>\n",
       "      <td>18:39:55</td>\n",
       "      <td>spring/fundamentals/security/authentication</td>\n",
       "      <td>48</td>\n",
       "      <td>0.0</td>\n",
       "      <td>97.105.19.61</td>\n",
       "    </tr>\n",
       "    <tr>\n",
       "      <th>2018-01-26 18:40:17</th>\n",
       "      <td>2018-01-26</td>\n",
       "      <td>18:40:17</td>\n",
       "      <td>appendix/further-reading/spring/authorization</td>\n",
       "      <td>48</td>\n",
       "      <td>0.0</td>\n",
       "      <td>97.105.19.61</td>\n",
       "    </tr>\n",
       "    <tr>\n",
       "      <th>2018-01-26 18:41:17</th>\n",
       "      <td>2018-01-26</td>\n",
       "      <td>18:41:17</td>\n",
       "      <td>appendix/further-reading/spring/security-use-c...</td>\n",
       "      <td>48</td>\n",
       "      <td>0.0</td>\n",
       "      <td>97.105.19.61</td>\n",
       "    </tr>\n",
       "    <tr>\n",
       "      <th>2018-01-26 19:40:30</th>\n",
       "      <td>2018-01-26</td>\n",
       "      <td>19:40:30</td>\n",
       "      <td>mysql/databases</td>\n",
       "      <td>48</td>\n",
       "      <td>0.0</td>\n",
       "      <td>97.105.19.61</td>\n",
       "    </tr>\n",
       "    <tr>\n",
       "      <th>2018-01-26 19:41:05</th>\n",
       "      <td>2018-01-26</td>\n",
       "      <td>19:41:05</td>\n",
       "      <td>mysql/tables</td>\n",
       "      <td>48</td>\n",
       "      <td>0.0</td>\n",
       "      <td>97.105.19.61</td>\n",
       "    </tr>\n",
       "    <tr>\n",
       "      <th>2018-01-26 19:41:14</th>\n",
       "      <td>2018-01-26</td>\n",
       "      <td>19:41:14</td>\n",
       "      <td>mysql/sample-database</td>\n",
       "      <td>48</td>\n",
       "      <td>0.0</td>\n",
       "      <td>97.105.19.61</td>\n",
       "    </tr>\n",
       "    <tr>\n",
       "      <th>2018-01-26 19:41:47</th>\n",
       "      <td>2018-01-26</td>\n",
       "      <td>19:41:47</td>\n",
       "      <td>mysql/intellij</td>\n",
       "      <td>48</td>\n",
       "      <td>0.0</td>\n",
       "      <td>97.105.19.61</td>\n",
       "    </tr>\n",
       "    <tr>\n",
       "      <th>2018-01-26 19:44:01</th>\n",
       "      <td>2018-01-26</td>\n",
       "      <td>19:44:01</td>\n",
       "      <td>mysql/sample-database</td>\n",
       "      <td>48</td>\n",
       "      <td>0.0</td>\n",
       "      <td>97.105.19.61</td>\n",
       "    </tr>\n",
       "    <tr>\n",
       "      <th>2018-01-26 19:48:12</th>\n",
       "      <td>2018-01-26</td>\n",
       "      <td>19:48:12</td>\n",
       "      <td>mysql/users</td>\n",
       "      <td>48</td>\n",
       "      <td>0.0</td>\n",
       "      <td>97.105.19.61</td>\n",
       "    </tr>\n",
       "    <tr>\n",
       "      <th>2018-01-26 19:48:24</th>\n",
       "      <td>2018-01-26</td>\n",
       "      <td>19:48:24</td>\n",
       "      <td>mysql/databases</td>\n",
       "      <td>48</td>\n",
       "      <td>0.0</td>\n",
       "      <td>97.105.19.61</td>\n",
       "    </tr>\n",
       "    <tr>\n",
       "      <th>2018-01-26 19:48:29</th>\n",
       "      <td>2018-01-26</td>\n",
       "      <td>19:48:29</td>\n",
       "      <td>mysql/tables</td>\n",
       "      <td>48</td>\n",
       "      <td>0.0</td>\n",
       "      <td>97.105.19.61</td>\n",
       "    </tr>\n",
       "  </tbody>\n",
       "</table>\n",
       "</div>"
      ],
      "text/plain": [
       "                           date      time  \\\n",
       "2018-01-26 16:46:16  2018-01-26  16:46:16   \n",
       "2018-01-26 16:46:24  2018-01-26  16:46:24   \n",
       "2018-01-26 17:54:24  2018-01-26  17:54:24   \n",
       "2018-01-26 18:32:03  2018-01-26  18:32:03   \n",
       "2018-01-26 18:32:17  2018-01-26  18:32:17   \n",
       "2018-01-26 18:32:33  2018-01-26  18:32:33   \n",
       "2018-01-26 18:32:37  2018-01-26  18:32:37   \n",
       "2018-01-26 18:32:43  2018-01-26  18:32:43   \n",
       "2018-01-26 18:32:47  2018-01-26  18:32:47   \n",
       "2018-01-26 18:33:07  2018-01-26  18:33:07   \n",
       "2018-01-26 18:33:13  2018-01-26  18:33:13   \n",
       "2018-01-26 18:34:02  2018-01-26  18:34:02   \n",
       "2018-01-26 18:34:33  2018-01-26  18:34:33   \n",
       "2018-01-26 18:38:21  2018-01-26  18:38:21   \n",
       "2018-01-26 18:39:30  2018-01-26  18:39:30   \n",
       "2018-01-26 18:39:37  2018-01-26  18:39:37   \n",
       "2018-01-26 18:39:40  2018-01-26  18:39:40   \n",
       "2018-01-26 18:39:45  2018-01-26  18:39:45   \n",
       "2018-01-26 18:39:49  2018-01-26  18:39:49   \n",
       "2018-01-26 18:39:55  2018-01-26  18:39:55   \n",
       "2018-01-26 18:40:17  2018-01-26  18:40:17   \n",
       "2018-01-26 18:41:17  2018-01-26  18:41:17   \n",
       "2018-01-26 19:40:30  2018-01-26  19:40:30   \n",
       "2018-01-26 19:41:05  2018-01-26  19:41:05   \n",
       "2018-01-26 19:41:14  2018-01-26  19:41:14   \n",
       "2018-01-26 19:41:47  2018-01-26  19:41:47   \n",
       "2018-01-26 19:44:01  2018-01-26  19:44:01   \n",
       "2018-01-26 19:48:12  2018-01-26  19:48:12   \n",
       "2018-01-26 19:48:24  2018-01-26  19:48:24   \n",
       "2018-01-26 19:48:29  2018-01-26  19:48:29   \n",
       "\n",
       "                                                          page_visited  \\\n",
       "2018-01-26 16:46:16                                                  /   \n",
       "2018-01-26 16:46:24              spring/extra-features/form-validation   \n",
       "2018-01-26 17:54:24                                                  /   \n",
       "2018-01-26 18:32:03                                                  /   \n",
       "2018-01-26 18:32:17                          mysql/relationships/joins   \n",
       "2018-01-26 18:32:33                                       mysql/tables   \n",
       "2018-01-26 18:32:37                                    mysql/databases   \n",
       "2018-01-26 18:32:43                                mysql/relationships   \n",
       "2018-01-26 18:32:47                          mysql/relationships/joins   \n",
       "2018-01-26 18:33:07                                mysql/relationships   \n",
       "2018-01-26 18:33:13                              mysql/database-design   \n",
       "2018-01-26 18:34:02                        mysql/relationships/indexes   \n",
       "2018-01-26 18:34:33                  spring/fundamentals/relationships   \n",
       "2018-01-26 18:38:21                                                  /   \n",
       "2018-01-26 18:39:30              spring/extra-features/form-validation   \n",
       "2018-01-26 18:39:37                  spring/extra-features/error-pages   \n",
       "2018-01-26 18:39:40                spring/extra-features/json-response   \n",
       "2018-01-26 18:39:45                  spring/extra-features/file-upload   \n",
       "2018-01-26 18:39:49                              spring/extra-features   \n",
       "2018-01-26 18:39:55        spring/fundamentals/security/authentication   \n",
       "2018-01-26 18:40:17      appendix/further-reading/spring/authorization   \n",
       "2018-01-26 18:41:17  appendix/further-reading/spring/security-use-c...   \n",
       "2018-01-26 19:40:30                                    mysql/databases   \n",
       "2018-01-26 19:41:05                                       mysql/tables   \n",
       "2018-01-26 19:41:14                              mysql/sample-database   \n",
       "2018-01-26 19:41:47                                     mysql/intellij   \n",
       "2018-01-26 19:44:01                              mysql/sample-database   \n",
       "2018-01-26 19:48:12                                        mysql/users   \n",
       "2018-01-26 19:48:24                                    mysql/databases   \n",
       "2018-01-26 19:48:29                                       mysql/tables   \n",
       "\n",
       "                     user_id  cohort_id            ip  \n",
       "2018-01-26 16:46:16       48        0.0  97.105.19.61  \n",
       "2018-01-26 16:46:24       48        0.0  97.105.19.61  \n",
       "2018-01-26 17:54:24       48        0.0  97.105.19.61  \n",
       "2018-01-26 18:32:03       48        0.0  97.105.19.61  \n",
       "2018-01-26 18:32:17       48        0.0  97.105.19.61  \n",
       "2018-01-26 18:32:33       48        0.0  97.105.19.61  \n",
       "2018-01-26 18:32:37       48        0.0  97.105.19.61  \n",
       "2018-01-26 18:32:43       48        0.0  97.105.19.61  \n",
       "2018-01-26 18:32:47       48        0.0  97.105.19.61  \n",
       "2018-01-26 18:33:07       48        0.0  97.105.19.61  \n",
       "2018-01-26 18:33:13       48        0.0  97.105.19.61  \n",
       "2018-01-26 18:34:02       48        0.0  97.105.19.61  \n",
       "2018-01-26 18:34:33       48        0.0  97.105.19.61  \n",
       "2018-01-26 18:38:21       48        0.0  97.105.19.61  \n",
       "2018-01-26 18:39:30       48        0.0  97.105.19.61  \n",
       "2018-01-26 18:39:37       48        0.0  97.105.19.61  \n",
       "2018-01-26 18:39:40       48        0.0  97.105.19.61  \n",
       "2018-01-26 18:39:45       48        0.0  97.105.19.61  \n",
       "2018-01-26 18:39:49       48        0.0  97.105.19.61  \n",
       "2018-01-26 18:39:55       48        0.0  97.105.19.61  \n",
       "2018-01-26 18:40:17       48        0.0  97.105.19.61  \n",
       "2018-01-26 18:41:17       48        0.0  97.105.19.61  \n",
       "2018-01-26 19:40:30       48        0.0  97.105.19.61  \n",
       "2018-01-26 19:41:05       48        0.0  97.105.19.61  \n",
       "2018-01-26 19:41:14       48        0.0  97.105.19.61  \n",
       "2018-01-26 19:41:47       48        0.0  97.105.19.61  \n",
       "2018-01-26 19:44:01       48        0.0  97.105.19.61  \n",
       "2018-01-26 19:48:12       48        0.0  97.105.19.61  \n",
       "2018-01-26 19:48:24       48        0.0  97.105.19.61  \n",
       "2018-01-26 19:48:29       48        0.0  97.105.19.61  "
      ]
     },
     "execution_count": 110,
     "metadata": {},
     "output_type": "execute_result"
    }
   ],
   "source": [
    "no_cohort.head(30)"
   ]
  },
  {
   "cell_type": "code",
   "execution_count": 81,
   "metadata": {},
   "outputs": [
    {
     "data": {
      "text/plain": [
       "354    2965\n",
       "736    2358\n",
       "363    2248\n",
       "716    2136\n",
       "368    2085\n",
       "       ... \n",
       "644       6\n",
       "62        4\n",
       "663       4\n",
       "176       3\n",
       "89        3\n",
       "Name: user_id, Length: 78, dtype: int64"
      ]
     },
     "execution_count": 81,
     "metadata": {},
     "output_type": "execute_result"
    }
   ],
   "source": [
    "no_cohort.user_id.value_counts(sort=True)"
   ]
  },
  {
   "cell_type": "code",
   "execution_count": 102,
   "metadata": {},
   "outputs": [],
   "source": [
    "user_354 = no_cohort[(no_cohort.user_id == 663)]"
   ]
  },
  {
   "cell_type": "code",
   "execution_count": 114,
   "metadata": {},
   "outputs": [
    {
     "data": {
      "text/plain": [
       "array([[<AxesSubplot:title={'center':'user_id'}>,\n",
       "        <AxesSubplot:title={'center':'cohort_id'}>]], dtype=object)"
      ]
     },
     "execution_count": 114,
     "metadata": {},
     "output_type": "execute_result"
    },
    {
     "data": {
      "image/png": "[encoded data removed]",
      "text/plain": [
       "<Figure size 432x288 with 2 Axes>"
      ]
     },
     "metadata": {
      "needs_background": "light"
     },
     "output_type": "display_data"
    }
   ],
   "source": [
    "lori.hist()"
   ]
  },
  {
   "cell_type": "code",
   "execution_count": 104,
   "metadata": {},
   "outputs": [
    {
     "name": "stderr",
     "output_type": "stream",
     "text": [
      "/usr/local/anaconda3/lib/python3.8/site-packages/pandas/plotting/_matplotlib/core.py:1136: UserWarning: Attempting to set identical left == right == 18464.0 results in singular transformations; automatically expanding.\n",
      "  ax.set_xlim(left, right)\n",
      "/usr/local/anaconda3/lib/python3.8/site-packages/pandas/plotting/_matplotlib/core.py:1136: UserWarning: Attempting to set identical left == right == 18464.0 results in singular transformations; automatically expanding.\n",
      "  ax.set_xlim(left, right)\n"
     ]
    },
    {
     "data": {
      "text/plain": [
       "<AxesSubplot:>"
      ]
     },
     "execution_count": 104,
     "metadata": {},
     "output_type": "execute_result"
    },
    {
     "data": {
      "image/png": "[encoded data removed]",
      "text/plain": [
       "<Figure size 432x288 with 1 Axes>"
      ]
     },
     "metadata": {
      "needs_background": "light"
     },
     "output_type": "display_data"
    }
   ],
   "source": [
    "user_354.resample('D').mean().plot(marker='o')"
   ]
  },
  {
   "cell_type": "code",
   "execution_count": 119,
   "metadata": {},
   "outputs": [
    {
     "data": {
      "text/plain": [
       "99.158.249.67     787\n",
       "104.189.74.143     11\n",
       "Name: ip, dtype: int64"
      ]
     },
     "execution_count": 119,
     "metadata": {},
     "output_type": "execute_result"
    }
   ],
   "source": [
    "df.query('user_id == 838')['ip'].value_counts()"
   ]
  },
  {
   "cell_type": "code",
   "execution_count": 118,
   "metadata": {},
   "outputs": [
    {
     "data": {
      "text/plain": [
       "136.50.57.27      376\n",
       "136.50.23.183     321\n",
       "136.50.22.105     177\n",
       "136.50.18.157     125\n",
       "136.50.61.147     114\n",
       "136.50.29.154     107\n",
       "136.50.102.126     42\n",
       "136.50.28.7        23\n",
       "136.50.87.115      12\n",
       "136.50.81.32       10\n",
       "136.50.23.208       5\n",
       "136.50.80.55        5\n",
       "Name: ip, dtype: int64"
      ]
     },
     "execution_count": 118,
     "metadata": {},
     "output_type": "execute_result"
    }
   ],
   "source": [
    "df.query('user_id==717')['ip'].value_counts()"
   ]
  },
  {
   "cell_type": "code",
   "execution_count": 122,
   "metadata": {},
   "outputs": [
    {
     "data": {
      "text/plain": [
       "Series([], Name: ip, dtype: int64)"
      ]
     },
     "execution_count": 122,
     "metadata": {},
     "output_type": "execute_result"
    }
   ],
   "source": [
    "df.query('cohort_id==130')['ip'].value_counts()"
   ]
  },
  {
   "cell_type": "code",
   "execution_count": 124,
   "metadata": {},
   "outputs": [
    {
     "data": {
      "text/plain": [
       "<AxesSubplot:>"
      ]
     },
     "execution_count": 124,
     "metadata": {},
     "output_type": "execute_result"
    },
    {
     "data": {
      "image/png": "[encoded data removed]",
      "text/plain": [
       "<Figure size 432x288 with 1 Axes>"
      ]
     },
     "metadata": {
      "needs_background": "light"
     },
     "output_type": "display_data"
    }
   ],
   "source": [
    "lori.plot()"
   ]
  },
  {
   "cell_type": "code",
   "execution_count": 129,
   "metadata": {},
   "outputs": [
    {
     "data": {
      "text/plain": [
       "<AxesSubplot:>"
      ]
     },
     "execution_count": 129,
     "metadata": {},
     "output_type": "execute_result"
    },
    {
     "data": {
      "image/png": "[encoded data removed]",
      "text/plain": [
       "<Figure size 432x288 with 1 Axes>"
      ]
     },
     "metadata": {
      "needs_background": "light"
     },
     "output_type": "display_data"
    }
   ],
   "source": [
    "lori.ip.resample('d').count().plot()"
   ]
  },
  {
   "cell_type": "code",
   "execution_count": 130,
   "metadata": {},
   "outputs": [],
   "source": [
    "matthew = df[(df.ip == 'secret')]"
   ]
  },
  {
   "cell_type": "code",
   "execution_count": 131,
   "metadata": {},
   "outputs": [
    {
     "data": {
      "text/plain": [
       "<AxesSubplot:>"
      ]
     },
     "execution_count": 131,
     "metadata": {},
     "output_type": "execute_result"
    },
    {
     "data": {
      "image/png": "[encoded data removed]",
      "text/plain": [
       "<Figure size 432x288 with 1 Axes>"
      ]
     },
     "metadata": {
      "needs_background": "light"
     },
     "output_type": "display_data"
    }
   ],
   "source": [
    "matthew.ip.resample('d').count().plot()"
   ]
  },
  {
   "cell_type": "markdown",
   "metadata": {},
   "source": [
    "### Tableau Practice\n",
    "https://public.tableau.com/profile/lori.segovia#!/vizhome/Practicewithanomalydataset/Sheet3"
   ]
  },
  {
   "cell_type": "code",
   "execution_count": null,
   "metadata": {},
   "outputs": [],
   "source": []
  }
 ],
 "metadata": {
  "kernelspec": {
   "display_name": "Python 3",
   "language": "python",
   "name": "python3"
  },
  "language_info": {
   "codemirror_mode": {
    "name": "ipython",
    "version": 3
   },
   "file_extension": ".py",
   "mimetype": "text/x-python",
   "name": "python",
   "nbconvert_exporter": "python",
   "pygments_lexer": "ipython3",
   "version": "3.8.5"
  }
 },
 "nbformat": 4,
 "nbformat_minor": 4
}
